{
 "cells": [
  {
   "cell_type": "code",
   "execution_count": 2,
   "metadata": {
    "ExecuteTime": {
     "end_time": "2021-01-11T20:26:31.717143Z",
     "start_time": "2021-01-11T20:26:31.655277Z"
    }
   },
   "outputs": [
    {
     "ename": "NameError",
     "evalue": "name 'getTemplateInfo' is not defined",
     "output_type": "error",
     "traceback": [
      "\u001b[0;31m---------------------------------------------------------------------------\u001b[0m",
      "\u001b[0;31mNameError\u001b[0m                                 Traceback (most recent call last)",
      "\u001b[0;32m<ipython-input-2-f3ff9cac456a>\u001b[0m in \u001b[0;36m<module>\u001b[0;34m\u001b[0m\n\u001b[1;32m     14\u001b[0m \u001b[0;34m\u001b[0m\u001b[0m\n\u001b[1;32m     15\u001b[0m \u001b[0;32mfrom\u001b[0m \u001b[0mety_utils\u001b[0m \u001b[0;32mimport\u001b[0m \u001b[0;34m*\u001b[0m \u001b[0;31m# no longer imports wikiextractor\u001b[0m\u001b[0;34m\u001b[0m\u001b[0;34m\u001b[0m\u001b[0m\n\u001b[0;32m---> 16\u001b[0;31m \u001b[0;32mfrom\u001b[0m \u001b[0mwikiextractor\u001b[0m\u001b[0;34m.\u001b[0m\u001b[0mdownstream_tasks\u001b[0m \u001b[0;32mimport\u001b[0m \u001b[0;34m*\u001b[0m\u001b[0;34m\u001b[0m\u001b[0;34m\u001b[0m\u001b[0m\n\u001b[0m\u001b[1;32m     17\u001b[0m \u001b[0;34m\u001b[0m\u001b[0m\n\u001b[1;32m     18\u001b[0m \u001b[0mu\u001b[0m \u001b[0;34m=\u001b[0m \u001b[0mos\u001b[0m\u001b[0;34m.\u001b[0m\u001b[0menviron\u001b[0m\u001b[0;34m[\u001b[0m\u001b[0;34m'RDS_ETY_USER'\u001b[0m\u001b[0;34m]\u001b[0m\u001b[0;34m;\u001b[0m \u001b[0mp\u001b[0m \u001b[0;34m=\u001b[0m \u001b[0mos\u001b[0m\u001b[0;34m.\u001b[0m\u001b[0menviron\u001b[0m\u001b[0;34m[\u001b[0m\u001b[0;34m'RDS_ETY_PASSWORD'\u001b[0m\u001b[0;34m]\u001b[0m\u001b[0;34m;\u001b[0m \u001b[0mh\u001b[0m \u001b[0;34m=\u001b[0m \u001b[0mos\u001b[0m\u001b[0;34m.\u001b[0m\u001b[0menviron\u001b[0m\u001b[0;34m[\u001b[0m\u001b[0;34m'RDS_ETY_HOST'\u001b[0m\u001b[0;34m]\u001b[0m\u001b[0;34m\u001b[0m\u001b[0;34m\u001b[0m\u001b[0m\n",
      "\u001b[0;32m~/projects/wikiextractor/wikiextractor/downstream_tasks.py\u001b[0m in \u001b[0;36m<module>\u001b[0;34m\u001b[0m\n\u001b[1;32m   2014\u001b[0m                 \u001b[0;32massert\u001b[0m \u001b[0mr\u001b[0m \u001b[0;34m==\u001b[0m \u001b[0mtest\u001b[0m\u001b[0;34m[\u001b[0m\u001b[0;36m1\u001b[0m\u001b[0;34m]\u001b[0m\u001b[0;34m,\u001b[0m \u001b[0;34mf'get_entry_connections()\\nfor: {test[0]}\\nPRED:{r} \\nACTU:{test[1]} \\nCOMMENT:{test[2]}'\u001b[0m\u001b[0;34m\u001b[0m\u001b[0;34m\u001b[0m\u001b[0m\n\u001b[1;32m   2015\u001b[0m         \u001b[0mlog\u001b[0m \u001b[0;32mand\u001b[0m \u001b[0mprint\u001b[0m\u001b[0;34m(\u001b[0m\u001b[0;34m'All get_entry_connections tests passed!'\u001b[0m\u001b[0;34m)\u001b[0m\u001b[0;34m\u001b[0m\u001b[0;34m\u001b[0m\u001b[0m\n\u001b[0;32m-> 2016\u001b[0;31m \u001b[0mtest_get_entry_connections\u001b[0m\u001b[0;34m(\u001b[0m\u001b[0;32mFalse\u001b[0m\u001b[0;34m)\u001b[0m\u001b[0;34m\u001b[0m\u001b[0;34m\u001b[0m\u001b[0m\n\u001b[0m\u001b[1;32m   2017\u001b[0m \u001b[0;34m\u001b[0m\u001b[0m\n\u001b[1;32m   2018\u001b[0m \u001b[0;34m\u001b[0m\u001b[0m\n",
      "\u001b[0;32m~/projects/wikiextractor/wikiextractor/downstream_tasks.py\u001b[0m in \u001b[0;36mtest_get_entry_connections\u001b[0;34m(log)\u001b[0m\n\u001b[1;32m   2010\u001b[0m                 \u001b[0mlog\u001b[0m \u001b[0;32mand\u001b[0m \u001b[0mprint\u001b[0m\u001b[0;34m(\u001b[0m\u001b[0;34mf'***** Testing: {test[0]} - {test[1]} *****'\u001b[0m\u001b[0;34m)\u001b[0m\u001b[0;34m\u001b[0m\u001b[0;34m\u001b[0m\u001b[0m\n\u001b[1;32m   2011\u001b[0m                 \u001b[0mwtpd\u001b[0m \u001b[0;34m=\u001b[0m \u001b[0mget_wikitext_parts_dict\u001b[0m\u001b[0;34m(\u001b[0m\u001b[0;34m**\u001b[0m\u001b[0me\u001b[0m\u001b[0;34m,\u001b[0m \u001b[0;34m**\u001b[0m\u001b[0;34m{\u001b[0m\u001b[0;34m'wikitext'\u001b[0m\u001b[0;34m:\u001b[0m \u001b[0mtest\u001b[0m\u001b[0;34m[\u001b[0m\u001b[0;36m0\u001b[0m\u001b[0;34m]\u001b[0m\u001b[0;34m}\u001b[0m\u001b[0;34m)\u001b[0m\u001b[0;34m\u001b[0m\u001b[0;34m\u001b[0m\u001b[0m\n\u001b[0;32m-> 2012\u001b[0;31m                 \u001b[0mconn\u001b[0m\u001b[0;34m,\u001b[0m\u001b[0m_\u001b[0m \u001b[0;34m=\u001b[0m \u001b[0mget_entry_connections\u001b[0m\u001b[0;34m(\u001b[0m\u001b[0mwtpd\u001b[0m\u001b[0;34m)\u001b[0m\u001b[0;34m\u001b[0m\u001b[0;34m\u001b[0m\u001b[0m\n\u001b[0m\u001b[1;32m   2013\u001b[0m                 \u001b[0mr\u001b[0m \u001b[0;34m=\u001b[0m \u001b[0;34m[\u001b[0m\u001b[0;34m[\u001b[0m\u001b[0mo\u001b[0m\u001b[0;34m[\u001b[0m\u001b[0;36m0\u001b[0m\u001b[0;34m]\u001b[0m\u001b[0;34m,\u001b[0m\u001b[0mo\u001b[0m\u001b[0;34m[\u001b[0m\u001b[0;36m1\u001b[0m\u001b[0;34m]\u001b[0m\u001b[0;34m]\u001b[0m \u001b[0;32mfor\u001b[0m \u001b[0mo\u001b[0m \u001b[0;32min\u001b[0m \u001b[0mconn\u001b[0m\u001b[0;34m]\u001b[0m\u001b[0;34m\u001b[0m\u001b[0;34m\u001b[0m\u001b[0m\n\u001b[1;32m   2014\u001b[0m                 \u001b[0;32massert\u001b[0m \u001b[0mr\u001b[0m \u001b[0;34m==\u001b[0m \u001b[0mtest\u001b[0m\u001b[0;34m[\u001b[0m\u001b[0;36m1\u001b[0m\u001b[0;34m]\u001b[0m\u001b[0;34m,\u001b[0m \u001b[0;34mf'get_entry_connections()\\nfor: {test[0]}\\nPRED:{r} \\nACTU:{test[1]} \\nCOMMENT:{test[2]}'\u001b[0m\u001b[0;34m\u001b[0m\u001b[0;34m\u001b[0m\u001b[0m\n",
      "\u001b[0;32m~/projects/wikiextractor/wikiextractor/downstream_tasks.py\u001b[0m in \u001b[0;36mget_entry_connections\u001b[0;34m(wikitext_parts, verbose)\u001b[0m\n\u001b[1;32m   1904\u001b[0m                         \u001b[0;31m# If the languages are the same, then it is equivalent\u001b[0m\u001b[0;34m\u001b[0m\u001b[0;34m\u001b[0m\u001b[0;34m\u001b[0m\u001b[0m\n\u001b[1;32m   1905\u001b[0m                         \u001b[0mpw\u001b[0m \u001b[0;34m=\u001b[0m \u001b[0mwikitext_parts\u001b[0m\u001b[0;34m[\u001b[0m\u001b[0mwikitext\u001b[0m\u001b[0;34m]\u001b[0m\u001b[0;34m[\u001b[0m\u001b[0;34m'preceding_wikitext_list'\u001b[0m\u001b[0;34m]\u001b[0m\u001b[0;34m[\u001b[0m\u001b[0;34m-\u001b[0m\u001b[0;36m1\u001b[0m\u001b[0;34m]\u001b[0m\u001b[0;34m\u001b[0m\u001b[0;34m\u001b[0m\u001b[0m\n\u001b[0;32m-> 1906\u001b[0;31m                         \u001b[0mlang0\u001b[0m \u001b[0;34m=\u001b[0m \u001b[0mnext\u001b[0m\u001b[0;34m(\u001b[0m\u001b[0miter\u001b[0m\u001b[0;34m(\u001b[0m\u001b[0mgetNodesFromTemplate\u001b[0m\u001b[0;34m(\u001b[0m\u001b[0mpw\u001b[0m\u001b[0;34m,\u001b[0m \u001b[0;34m'root'\u001b[0m\u001b[0;34m)\u001b[0m\u001b[0;34m)\u001b[0m\u001b[0;34m,\u001b[0m\u001b[0;34m{\u001b[0m\u001b[0;34m}\u001b[0m\u001b[0;34m)\u001b[0m\u001b[0;34m.\u001b[0m\u001b[0mget\u001b[0m\u001b[0;34m(\u001b[0m\u001b[0;34m'language_code'\u001b[0m\u001b[0;34m)\u001b[0m\u001b[0;34m\u001b[0m\u001b[0;34m\u001b[0m\u001b[0m\n\u001b[0m\u001b[1;32m   1907\u001b[0m                         \u001b[0mlang1\u001b[0m \u001b[0;34m=\u001b[0m \u001b[0mnext\u001b[0m\u001b[0;34m(\u001b[0m\u001b[0miter\u001b[0m\u001b[0;34m(\u001b[0m\u001b[0mgetNodesFromTemplate\u001b[0m\u001b[0;34m(\u001b[0m\u001b[0mwikitext\u001b[0m\u001b[0;34m,\u001b[0m \u001b[0;34m'root'\u001b[0m\u001b[0;34m)\u001b[0m\u001b[0;34m)\u001b[0m\u001b[0;34m,\u001b[0m\u001b[0;34m{\u001b[0m\u001b[0;34m}\u001b[0m\u001b[0;34m)\u001b[0m\u001b[0;34m.\u001b[0m\u001b[0mget\u001b[0m\u001b[0;34m(\u001b[0m\u001b[0;34m'language_code'\u001b[0m\u001b[0;34m)\u001b[0m\u001b[0;34m\u001b[0m\u001b[0;34m\u001b[0m\u001b[0m\n\u001b[1;32m   1908\u001b[0m \u001b[0;34m\u001b[0m\u001b[0m\n",
      "\u001b[0;32m~/projects/wikiextractor/wikiextractor/downstream_tasks.py\u001b[0m in \u001b[0;36mgetNodesFromTemplate\u001b[0;34m(templateString, nodeType, allow_non_connections)\u001b[0m\n\u001b[1;32m   1721\u001b[0m \t\"\"\"\n\u001b[1;32m   1722\u001b[0m         \u001b[0mnodes\u001b[0m \u001b[0;34m=\u001b[0m \u001b[0;34m[\u001b[0m\u001b[0;34m]\u001b[0m\u001b[0;34m\u001b[0m\u001b[0;34m\u001b[0m\u001b[0m\n\u001b[0;32m-> 1723\u001b[0;31m         \u001b[0mtypen\u001b[0m\u001b[0;34m,\u001b[0m \u001b[0mparts\u001b[0m\u001b[0;34m,\u001b[0m \u001b[0mpartDict\u001b[0m \u001b[0;34m=\u001b[0m \u001b[0mgetTemplateInfo\u001b[0m\u001b[0;34m(\u001b[0m\u001b[0mtemplateString\u001b[0m\u001b[0;34m,\u001b[0m \u001b[0mpad_parts\u001b[0m\u001b[0;34m=\u001b[0m\u001b[0;36m4\u001b[0m\u001b[0;34m)\u001b[0m\u001b[0;34m\u001b[0m\u001b[0;34m\u001b[0m\u001b[0m\n\u001b[0m\u001b[1;32m   1724\u001b[0m \u001b[0;34m\u001b[0m\u001b[0m\n\u001b[1;32m   1725\u001b[0m         \u001b[0;32mif\u001b[0m \u001b[0mtypen\u001b[0m \u001b[0;34m==\u001b[0m \u001b[0;34m'eeStart'\u001b[0m\u001b[0;34m:\u001b[0m\u001b[0;34m\u001b[0m\u001b[0;34m\u001b[0m\u001b[0m\n",
      "\u001b[0;31mNameError\u001b[0m: name 'getTemplateInfo' is not defined"
     ]
    }
   ],
   "source": [
    "%matplotlib inline\n",
    "%reload_ext autoreload\n",
    "%autoreload 2\n",
    "\n",
    "import sys\n",
    "\n",
    "wikiextractor_path = \"/home/ubuntu/projects/wikiextractor\" \n",
    "etymology_explorer_path = \"/home/ubuntu/projects/etymology_explorer/modules\"\n",
    "if not wikiextractor_path in sys.path: sys.path.append(wikiextractor_path)\n",
    "if not etymology_explorer_path in sys.path: sys.path.append(etymology_explorer_path)\n",
    "\n",
    "import mwparserfromhell\n",
    "from dgnutils import *\n",
    "\n",
    "from ety_utils import * # no longer imports wikiextractor\n",
    "from wikiextractor.downstream_tasks import *\n",
    "\n",
    "u = os.environ['RDS_ETY_USER']; p = os.environ['RDS_ETY_PASSWORD']; h = os.environ['RDS_ETY_HOST']\n",
    "session=requests.session()\n",
    "train_conn, train_cursor = connect('training_data', user=u, password=p, host=h)\n",
    "dev_conn, dev_cursor = connect('etymology_explorer_dev', user=u, password=p, host=h)\n",
    "# test_conn, test_cursor = connect('etymology_explorer_test', user=u, password=p, host=h)\n",
    "# stage_conn, stage_cursor = connect('etymology_explorer_staging', user=u, password=p, host=h)"
   ]
  },
  {
   "cell_type": "code",
   "execution_count": null,
   "metadata": {
    "ExecuteTime": {
     "end_time": "2021-01-11T18:35:25.410454Z",
     "start_time": "2021-01-11T18:35:17.401177Z"
    }
   },
   "outputs": [],
   "source": [
    "log_level('d')\n",
    "wp = WikiProcessor(\n",
    "    '/home/ubuntu/projects/wikiextractor/', \n",
    "    channel='dev', \n",
    "    store_intermediates=True,\n",
    "    use_id_caches=True\n",
    ")\n",
    "log_level('i')"
   ]
  },
  {
   "cell_type": "markdown",
   "metadata": {
    "heading_collapsed": true
   },
   "source": [
    "# Full load test"
   ]
  },
  {
   "cell_type": "code",
   "execution_count": null,
   "metadata": {
    "ExecuteTime": {
     "end_time": "2021-01-04T00:29:58.718562Z",
     "start_time": "2021-01-04T00:29:58.698096Z"
    },
    "hidden": true
   },
   "outputs": [],
   "source": [
    "# Create test xml\n",
    "# head -176497 enwiktionary-latest-pages-articles.xml > test.xml\n",
    "# echo \"</mediawiki>\" >> test.xml\n",
    "# wc -l test.xml\n",
    "# tail -100 test.xml\n",
    "# cd ..\n",
    "# ./WikiExtractor.py --processes 4 -o output_test --json --no_templates --lists --sections input/test.xml"
   ]
  },
  {
   "cell_type": "code",
   "execution_count": null,
   "metadata": {
    "ExecuteTime": {
     "end_time": "2021-01-04T23:56:35.137037Z",
     "start_time": "2021-01-04T23:56:35.120835Z"
    },
    "hidden": true
   },
   "outputs": [],
   "source": [
    "wp = WikiProcessor(\n",
    "    '/home/ubuntu/projects/wikiextractor/', \n",
    "    channel='test', # Test makes self.test = true\n",
    "#     channel='dev', \n",
    "    store_intermediates=True,\n",
    ")"
   ]
  },
  {
   "cell_type": "code",
   "execution_count": null,
   "metadata": {
    "ExecuteTime": {
     "end_time": "2021-01-04T23:56:37.434503Z",
     "start_time": "2021-01-04T23:56:37.412082Z"
    },
    "hidden": true
   },
   "outputs": [],
   "source": [
    "wp.load_wl_2_id_values()"
   ]
  },
  {
   "cell_type": "code",
   "execution_count": null,
   "metadata": {
    "ExecuteTime": {
     "end_time": "2021-01-04T00:42:09.183026Z",
     "start_time": "2021-01-04T00:42:09.132220Z"
    },
    "hidden": true
   },
   "outputs": [],
   "source": [
    "processed_wikidump = wp.load_wikidump_etymologies(); len(processed_wikidump)"
   ]
  },
  {
   "cell_type": "code",
   "execution_count": null,
   "metadata": {
    "ExecuteTime": {
     "end_time": "2021-01-04T00:42:33.002401Z",
     "start_time": "2021-01-04T00:42:10.259982Z"
    },
    "hidden": true
   },
   "outputs": [],
   "source": [
    "en_etys_dl, wp.en_dict = wp.create_and_insert_mysql_entries(processed_wikidump) # no cache"
   ]
  },
  {
   "cell_type": "code",
   "execution_count": null,
   "metadata": {
    "ExecuteTime": {
     "end_time": "2021-01-04T00:35:40.120413Z",
     "start_time": "2021-01-04T00:35:40.065150Z"
    },
    "hidden": true
   },
   "outputs": [],
   "source": [
    "test_cursor.e('SELECT COUNT(*) FROM etymologies')"
   ]
  },
  {
   "cell_type": "markdown",
   "metadata": {
    "heading_collapsed": true
   },
   "source": [
    "# Add links to etymologies "
   ]
  },
  {
   "cell_type": "code",
   "execution_count": null,
   "metadata": {
    "hidden": true
   },
   "outputs": [],
   "source": [
    "# Do a hack\n",
    "# Go through all new etymologies, and find instances where the expanded text matches to one of the existing etymologies, then add that to the etymology\n",
    "# Search through each unmatched etymology, look for (language, word) that links to an _id."
   ]
  },
  {
   "cell_type": "code",
   "execution_count": null,
   "metadata": {
    "ExecuteTime": {
     "end_time": "2021-01-04T23:56:56.086876Z",
     "start_time": "2021-01-04T23:56:56.035267Z"
    },
    "hidden": true
   },
   "outputs": [],
   "source": [
    "# Manually get all the etymologies\n",
    "# DO NOT RESET DATABASE\n",
    "wp = WikiProcessor('/home/ubuntu/projects/wikiextractor/', channel='staging', )\n",
    "wp.load_wl_2_id_values()\n",
    "wp.load_language_dict()\n",
    "log_level('d')"
   ]
  },
  {
   "cell_type": "markdown",
   "metadata": {
    "heading_collapsed": true,
    "hidden": true
   },
   "source": [
    "## Get en_etys_dl"
   ]
  },
  {
   "cell_type": "code",
   "execution_count": null,
   "metadata": {
    "ExecuteTime": {
     "end_time": "2021-01-04T17:22:00.687205Z",
     "start_time": "2021-01-04T17:21:44.390455Z"
    },
    "hidden": true
   },
   "outputs": [],
   "source": [
    "wp.load_wl_2_id_values() # 17s\n",
    "wp.load_language_dict() #1s"
   ]
  },
  {
   "cell_type": "code",
   "execution_count": null,
   "metadata": {
    "ExecuteTime": {
     "end_time": "2021-01-04T17:23:31.514590Z",
     "start_time": "2021-01-04T17:22:03.529420Z"
    },
    "hidden": true
   },
   "outputs": [],
   "source": [
    "processed_wikidump = wp.load_wikidump_etymologies(); len(processed_wikidump) # 1.5m on r4.2xl"
   ]
  },
  {
   "cell_type": "code",
   "execution_count": null,
   "metadata": {
    "ExecuteTime": {
     "end_time": "2021-01-04T17:32:26.054867Z",
     "start_time": "2021-01-04T17:31:20.270028Z"
    },
    "hidden": true
   },
   "outputs": [],
   "source": [
    "en_conns_dl, en_etys_dl, en_pos_dl, en_prons_dl, en_defs_dl, etys_dl = wp.create_mysql_data_from_processed_wikiextraction_data(processed_wikidump, log=True)"
   ]
  },
  {
   "cell_type": "code",
   "execution_count": null,
   "metadata": {
    "ExecuteTime": {
     "end_time": "2021-01-04T18:02:00.221127Z",
     "start_time": "2021-01-04T18:00:49.747434Z"
    },
    "hidden": true
   },
   "outputs": [],
   "source": [
    "parsed_etymologies_except_conns = multi_parse_wikitext_sentences(\n",
    "    [e['wikitext'] for e in en_etys_dl], \n",
    "    cache_file=wp.cache_path+'ety.wik' if wp.cache_path else None,\n",
    "    ignore_connection_forming=True,\n",
    ")\n",
    "en_etys_dl = [{**z[0], 'wikitext':z[1]} for z in zip(en_etys_dl, parsed_etymologies_except_conns)]"
   ]
  },
  {
   "cell_type": "code",
   "execution_count": null,
   "metadata": {
    "ExecuteTime": {
     "end_time": "2021-01-04T18:03:28.327186Z",
     "start_time": "2021-01-04T18:02:21.889322Z"
    },
    "hidden": true
   },
   "outputs": [],
   "source": [
    "parsed_etymologies = multi_parse_wikitext_sentences(\n",
    "    [e['wikitext'] for e in en_etys_dl], \n",
    "    cache_file=wp.cache_path+'ety.wik' if wp.cache_path else None,\n",
    "    ignore_connection_forming=False,\n",
    ")\n",
    "en_etys_dl = [{**z[0], 'etymology':z[1]} for z in zip(en_etys_dl, parsed_etymologies)]"
   ]
  },
  {
   "cell_type": "markdown",
   "metadata": {
    "hidden": true
   },
   "source": [
    "## start from en_etys_dl"
   ]
  },
  {
   "cell_type": "code",
   "execution_count": null,
   "metadata": {
    "ExecuteTime": {
     "end_time": "2021-01-04T23:57:03.056117Z",
     "start_time": "2021-01-04T23:56:59.713663Z"
    },
    "hidden": true
   },
   "outputs": [],
   "source": [
    "# Checkpoint\n",
    "# pickle.dump(en_etys_dl, open('en_etys_dl', 'wb+'))\n",
    "en_etys_dl = pickle.load(open('en_etys_dl', 'rb'))"
   ]
  },
  {
   "cell_type": "code",
   "execution_count": null,
   "metadata": {
    "ExecuteTime": {
     "end_time": "2021-01-04T23:57:11.759695Z",
     "start_time": "2021-01-04T23:57:11.745296Z"
    },
    "hidden": true
   },
   "outputs": [],
   "source": [
    "len(en_etys_dl), en_etys_dl[0]"
   ]
  },
  {
   "cell_type": "code",
   "execution_count": null,
   "metadata": {
    "ExecuteTime": {
     "end_time": "2021-01-05T00:27:30.533764Z",
     "start_time": "2021-01-05T00:27:30.518772Z"
    },
    "hidden": true
   },
   "outputs": [],
   "source": [
    "wp.wl_2_id[('dictionarium', 'Latin')]"
   ]
  },
  {
   "cell_type": "code",
   "execution_count": null,
   "metadata": {
    "ExecuteTime": {
     "end_time": "2021-01-05T00:24:55.794646Z",
     "start_time": "2021-01-05T00:24:55.781569Z"
    },
    "hidden": true
   },
   "outputs": [],
   "source": [
    "wp.getNodesFromTemplate('{{bor|en|ML.|dictionarium}}', 'root', allow_non_connections=True)\n",
    "# getTemplateInfo('{{bor|en|ML.|dictionarium}}')"
   ]
  },
  {
   "cell_type": "code",
   "execution_count": null,
   "metadata": {
    "ExecuteTime": {
     "end_time": "2021-01-05T00:08:08.797995Z",
     "start_time": "2021-01-05T00:08:08.783835Z"
    },
    "hidden": true
   },
   "outputs": [],
   "source": [
    "templates = mwparserfromhell.parse(en_etys_dl[0]['wikitext']).filter_templates(); templates\n",
    "[wp.getNodesFromTemplate(t, 'root') for t in templates]"
   ]
  },
  {
   "cell_type": "code",
   "execution_count": null,
   "metadata": {
    "hidden": true
   },
   "outputs": [],
   "source": [
    "for en_ety in en_etys_dl:\n",
    "    \n",
    "wp.load"
   ]
  },
  {
   "cell_type": "code",
   "execution_count": null,
   "metadata": {
    "hidden": true
   },
   "outputs": [],
   "source": [
    "# Check for multiple entries"
   ]
  },
  {
   "cell_type": "code",
   "execution_count": null,
   "metadata": {
    "ExecuteTime": {
     "end_time": "2021-01-04T18:47:30.602573Z",
     "start_time": "2021-01-04T18:47:30.166711Z"
    },
    "hidden": true
   },
   "outputs": [],
   "source": [
    "[a['etymology'] for a in all_entry_etymologies if 'Borrowed from Medieval Latin dictionarium' in a['etymology']]"
   ]
  },
  {
   "cell_type": "code",
   "execution_count": null,
   "metadata": {
    "hidden": true
   },
   "outputs": [],
   "source": [
    "processed_wikidump"
   ]
  },
  {
   "cell_type": "code",
   "execution_count": null,
   "metadata": {
    "ExecuteTime": {
     "end_time": "2021-01-04T17:45:13.405226Z",
     "start_time": "2021-01-04T17:45:02.242111Z"
    },
    "hidden": true
   },
   "outputs": [],
   "source": [
    "# 12.8s\n",
    "all_entry_etymologies = stage_cursor.d('SELECT entry_id, etymology FROM entry_etymologies')"
   ]
  },
  {
   "cell_type": "markdown",
   "metadata": {
    "heading_collapsed": true
   },
   "source": [
    "# Get entries info from wikitext"
   ]
  },
  {
   "cell_type": "code",
   "execution_count": null,
   "metadata": {
    "hidden": true
   },
   "outputs": [],
   "source": [
    "# Get all the wikitext entries (for now just a sample)\n",
    "\n",
    "# Find ones that have a gloss, or definition\n",
    "# Find the word and language for that wikitext, then the id\n",
    "# See if that id has an existing definition or entry"
   ]
  },
  {
   "cell_type": "markdown",
   "metadata": {
    "heading_collapsed": true
   },
   "source": [
    "# Improve interwikitext parsing"
   ]
  },
  {
   "cell_type": "markdown",
   "metadata": {
    "ExecuteTime": {
     "end_time": "2021-01-08T16:05:07.481433Z",
     "start_time": "2021-01-08T16:05:07.474629Z"
    },
    "hidden": true
   },
   "source": [
    "- Reduce the interwiki text to the important information. i.e. remove unhelpful information\n",
    "- Grab all interwikitext\n",
    "- Make a plot of the frequencies for reference\n",
    "- Reduce them to the most common with regex etc\n",
    "- Count\n",
    "  - Staring: 121506\n",
    "  - after stranded punctuation fix: 119934\n",
    "  - after another comma fix: 119886\n",
    "  - after removing cognates: 114426 "
   ]
  },
  {
   "cell_type": "code",
   "execution_count": null,
   "metadata": {
    "ExecuteTime": {
     "end_time": "2021-01-08T16:44:37.084777Z",
     "start_time": "2021-01-08T16:42:38.211772Z"
    },
    "hidden": true
   },
   "outputs": [],
   "source": [
    "sql_stmt = \"\"\" \n",
    "SELECT _id, word, language_name, ee.entry_id, wikitext FROM entry_etymologies ee\n",
    "INNER JOIN entry_connections ec ON ee.entry_id = ec.entry_id\n",
    "INNER JOIN etymologies e ON e._id = ec.etymology_id \"\"\"\n",
    "    # sql_stmt += ' LIMIT 5' # for testing\n",
    "    # sql_stmt += ' WHERE _id = 204484 '"
   ]
  },
  {
   "cell_type": "code",
   "execution_count": null,
   "metadata": {
    "ExecuteTime": {
     "end_time": "2021-01-08T18:41:25.653548Z",
     "start_time": "2021-01-08T18:41:23.272302Z"
    },
    "hidden": true
   },
   "outputs": [],
   "source": [
    "# wikitext_data = dev_cursor.d(sql_stmt) # 90s - 120s\n",
    "# pickle.dump(wikitext_data, open('wikitext_data', 'wb+'))\n",
    "wikitext_data = pickle.load(open('wikitext_data', 'rb')) # 2s"
   ]
  },
  {
   "cell_type": "code",
   "execution_count": null,
   "metadata": {
    "ExecuteTime": {
     "end_time": "2021-01-08T19:51:54.419312Z",
     "start_time": "2021-01-08T19:49:42.467001Z"
    },
    "hidden": true
   },
   "outputs": [],
   "source": [
    "sentiment_data={} # 80s 120s\n",
    "for wi in wikitext_data:\n",
    "    for g in get_wikitext_parts_dict(**wi).values():\n",
    "        if g['preceding_text'] == '' and g['place'] == 0: continue\n",
    "        sentiment_data.setdefault(g['preceding_text'],{}).setdefault('entry_ids', []).append(wi['entry_id'])\n",
    "        if not 'sentiment_type' in sentiment_data[g['preceding_text']]:\n",
    "            sentiment_data[g['preceding_text']]['sentiment_type'] = get_sentiment_type(g['preceding_text']) \n",
    "len(sentiment_data)"
   ]
  },
  {
   "cell_type": "code",
   "execution_count": null,
   "metadata": {
    "ExecuteTime": {
     "end_time": "2021-01-08T19:59:04.682190Z",
     "start_time": "2021-01-08T19:59:04.644995Z"
    },
    "hidden": true
   },
   "outputs": [],
   "source": [
    "etymology = 'As a verb, {{test}} from [[test]] {{inh{{test}}|en|enm|springen||to burst or flow forth, to sprout, to emerge, to happen, to become known, to sprinkle}}, from {{inh|en|ang|springan||to burst or flow forth, to sprout, to emerge, to become known}}, cognate with {{cog|af|spring}}, {{cog|fy|springe}}, Dutch & German {{m|nl|springen}}, {{cog|da|springe}}, {{cog|sv|springa}}. Further etymology is uncertain, but usually taken to derive from a __wiki__ verb reconstructed as {{m|gem-pro|*springaną||to burst forth}}, from a __wiki__ root reconstructed {{m|ine-pro|*sperǵʰ-}} whose other descendants may include {{cog|lt|spreñgti||to push (in)}}, {{cog|cu|прѧсти||to spin, to stretch}}, {{cog|la|spargere||to sprinkle, to scatter}}, {{cog|grc|σπέρχω||to hasten}}, {{cog|sa|स्पृहयति|tr=spṛháyati||to be eager}}. Some newer senses derived from the noun. As a noun, from {{inh|en|enm|spring||a wellspring, tide, branch, sunrise, kind of dance or blow, ulcer, snare, flock}}, from {{inh|en|ang|spring||wellspring, ulcer}} and {{inh|en|ang|spryng||a jump}}, from ablaut forms of the __wiki__ verb. Further senses derived from the verb and from clippings of {{m|en|day-spring}}, {{m|en|springtime}}, {{m|en|spring tide}}, etc. Its sense as the season, first attested in a work predating 1325, gradually replaced Old English {{m|ang|lencten||spring, Lent}} as that word became more specifically liturgical. Compare {{m|en|fall}}.'\n",
    "m = mwparserfromhell.parse(etymology)\n",
    "wiki_dict = {str(m)[2:-2]:i for i,m in enumerate(list(m.filter_templates(recursive=False)))}\n",
    "wiki_dict\n",
    "for wiki,index in sorted(wiki_dict.items(), key=lambda x: len(x[0]), reverse=True): # sort by length\n",
    "    etymology = etymology.replace(wiki, str(index))\n",
    "etymology"
   ]
  },
  {
   "cell_type": "code",
   "execution_count": null,
   "metadata": {
    "hidden": true
   },
   "outputs": [],
   "source": [
    "def protect_wikis(text):\n",
    "    \"\"\"\n",
    "    replace wikitext {{test|text}} with {{0}} and store the text in a dict\n",
    "    \"\"\"\n",
    "    wiki_dict = {}\n",
    "    for \n",
    "    \n",
    "etymology, protect_wikis_dict = def (etymology)"
   ]
  },
  {
   "cell_type": "code",
   "execution_count": null,
   "metadata": {
    "ExecuteTime": {
     "end_time": "2021-01-08T18:40:49.738028Z",
     "start_time": "2021-01-08T18:40:49.714631Z"
    },
    "hidden": true
   },
   "outputs": [],
   "source": [
    "# assert fix_broken_punctuation('{{cog|crh|kim}} ,{{cog|krc|ким|tr=kim}}') == '{{cog|crh|kim}}, {{cog|krc|ким|tr=kim}}'\n",
    "# preprocess_etymology('From {{inh|kdr|trk-pro|*kem|gloss=who}}. Relate to {{cog|crh|kim}} ,{{cog|krc|ким|tr=kim}} ,{{cog|kum|ким|tr=kim}} , {{cog|uum|ким|tr=kim}} ,{{cog|kim|ӄум|tr=qum}}, {{cog|tyv|кым}}, etc.')"
   ]
  },
  {
   "cell_type": "code",
   "execution_count": null,
   "metadata": {
    "hidden": true
   },
   "outputs": [],
   "source": [
    "# remove everything after \". Cognate\"\n",
    "# handle \"\" words\n",
    "# remove duplicated punctuation like \", , \"\n",
    "# fix \"(spore):, \" Danish spore"
   ]
  },
  {
   "cell_type": "code",
   "execution_count": null,
   "metadata": {
    "ExecuteTime": {
     "end_time": "2021-01-08T19:28:55.177786Z",
     "start_time": "2021-01-08T19:28:55.150796Z"
    },
    "hidden": true
   },
   "outputs": [],
   "source": [
    "get_entry_info(dev_conn, enid)"
   ]
  },
  {
   "cell_type": "code",
   "execution_count": null,
   "metadata": {
    "ExecuteTime": {
     "end_time": "2021-01-08T19:28:17.447991Z",
     "start_time": "2021-01-08T19:28:17.415208Z"
    },
    "hidden": true
   },
   "outputs": [],
   "source": [
    "enid = 2012\n",
    "w = next(iter(get_entry_info(dev_conn, enid)['words'].values()))['entries'][enid]['wikitext']\n",
    "print(w), print(), print(preprocess_etymology(w));"
   ]
  },
  {
   "cell_type": "code",
   "execution_count": null,
   "metadata": {
    "ExecuteTime": {
     "end_time": "2021-01-08T19:15:13.275022Z",
     "start_time": "2021-01-08T19:15:13.260830Z"
    },
    "hidden": true
   },
   "outputs": [],
   "source": [
    "a = r'([Rr]elate|[Cc]ognate)[^.;!?]*([^.;!?]|$)'\n",
    "re.sub(a, '', 'From {{test}} and related to banana. From {{something}} else')\n",
    "re.sub(a, '', 'From {{test}} and related to banana. From {{something}} else')"
   ]
  },
  {
   "cell_type": "code",
   "execution_count": null,
   "metadata": {
    "ExecuteTime": {
     "end_time": "2021-01-08T19:27:35.701275Z",
     "start_time": "2021-01-08T19:27:33.514258Z"
    },
    "hidden": true
   },
   "outputs": [],
   "source": [
    "# Remove Cognates\n",
    "results = [[s, sentiment_data[s]['entry_ids']] for s in sentiment_data if re.search(r' ([Rr]elate|[Cc]ognate)[^.]*', s)]\n",
    "\n",
    "# results = [\n",
    "#     [s, sentiment_data[s]['entry_ids']]\n",
    "#     for s in sentiment_data \n",
    "#     if \n",
    "#         re.search(r' [Rr]elate[^.]*', s) \n",
    "#         and not re.search(r' ([Cc]ognate|[Rr]elated)[^.]*', s)\n",
    "# ]\n",
    "results = sorted(results, key=lambda x: len(x[1]), reverse=True)\n",
    "print(len(results), 'results')\n",
    "for result in results:\n",
    "    print(f'\"{result[0]}\"', result[1][:4])"
   ]
  },
  {
   "cell_type": "code",
   "execution_count": null,
   "metadata": {
    "ExecuteTime": {
     "end_time": "2021-01-08T18:53:01.085145Z",
     "start_time": "2021-01-08T18:53:00.898762Z"
    },
    "hidden": true
   },
   "outputs": [],
   "source": [
    "# evaluate this more (quoted words)\n",
    "# [[s, sentiment_data[s]['entry_ids']] for s in sentiment_data if re.search(r'\\\"[^ ]+\\\"', s)]"
   ]
  },
  {
   "cell_type": "markdown",
   "metadata": {
    "heading_collapsed": true
   },
   "source": [
    "# Manual Processing"
   ]
  },
  {
   "cell_type": "code",
   "execution_count": null,
   "metadata": {
    "ExecuteTime": {
     "end_time": "2021-01-09T11:43:29.235778Z",
     "start_time": "2021-01-09T11:43:29.218458Z"
    },
    "hidden": true
   },
   "outputs": [],
   "source": [
    "wp = WikiProcessor(\n",
    "    '/home/ubuntu/projects/wikiextractor/', \n",
    "#     channel='test', # Test makes self.test = true\n",
    "    channel='dev', \n",
    "    store_intermediates=True,\n",
    ") \n",
    "log_level('d')"
   ]
  },
  {
   "cell_type": "code",
   "execution_count": null,
   "metadata": {
    "ExecuteTime": {
     "end_time": "2021-01-09T11:46:41.302225Z",
     "start_time": "2021-01-09T11:43:33.668067Z"
    },
    "hidden": true
   },
   "outputs": [],
   "source": [
    "# After get_wikitext_part_array() fails # 160 s\n",
    "en_etys_dl = wp.cursor.d('SELECT * FROM entry_etymologies') # 22s\n",
    "en_conns_dl = wp.cursor.d('SELECT * FROM entry_connections') # 15s\n",
    "en_2_ety = {e['entry_id']:e['etymology_id'] for e in en_conns_dl} #0s\n",
    "etys_dl = wp.cursor.d('SELECT _id, word, language_name FROM etymologies') # 80s\n",
    "etys_dict = {e['_id']:e for e in etys_dl} # 1s\n",
    "wp.en_dict = {e['entry_id']:e['entry_number'] for e in en_conns_dl} # Needed later\n",
    "en_etys_dl_plus = [{**e, **etys_dict[en_2_ety[e['entry_id']]]} for e in en_etys_dl] # 3s"
   ]
  },
  {
   "cell_type": "code",
   "execution_count": null,
   "metadata": {
    "ExecuteTime": {
     "end_time": "2021-01-09T11:49:01.624177Z",
     "start_time": "2021-01-09T11:46:41.303995Z"
    },
    "hidden": true
   },
   "outputs": [],
   "source": [
    "wikitext_part_array = wp.get_wikitext_part_array(en_etys_dl_plus) # 150s\n",
    "# pickle.dump(wikitext_part_array, open('wikitext_part_array', 'wb+'))\n",
    "# wikitext_part_array = pickle.load(open('wikitext_part_array', 'rb'))"
   ]
  },
  {
   "cell_type": "code",
   "execution_count": null,
   "metadata": {
    "ExecuteTime": {
     "end_time": "2021-01-09T11:50:12.025685Z",
     "start_time": "2021-01-09T11:49:01.626121Z"
    },
    "hidden": true
   },
   "outputs": [],
   "source": [
    "all_connections, _ = wp.get_connections_from_wikitext_parts(wikitext_part_array) # 60s\n",
    "# pickle.dump(all_connections, open('all_connections', 'wb+'))\n",
    "# all_connections = pickle.load(open('all_connections', 'rb'))"
   ]
  },
  {
   "cell_type": "code",
   "execution_count": null,
   "metadata": {
    "ExecuteTime": {
     "end_time": "2021-01-09T12:05:19.631197Z",
     "start_time": "2021-01-09T12:04:23.567952Z"
    },
    "hidden": true
   },
   "outputs": [],
   "source": [
    "wp.load_wl_2_id_values() # 90s\n",
    "wp.load_language_dict() # 0s\n",
    "node_connections = wp.get_nodes_from_connections(all_connections) # 60s"
   ]
  },
  {
   "cell_type": "code",
   "execution_count": null,
   "metadata": {
    "ExecuteTime": {
     "end_time": "2021-01-09T02:58:54.831227Z",
     "start_time": "2021-01-09T02:58:54.528237Z"
    },
    "hidden": true
   },
   "outputs": [],
   "source": [
    "excluded_tables = [ # all tables\n",
    "    'ancestors',\n",
    "    'common_words',\n",
    "    # 'connection_sources',\n",
    "    # 'connections',\n",
    "    'database_errors',\n",
    "    'entry_connections',\n",
    "    'entry_definitions', \n",
    "    'entry_etymologies',\n",
    "    'entry_pos',\n",
    "    'entry_pronunciations',\n",
    "    'etymologies',\n",
    "    'kin',\n",
    "    'languages',\n",
    "    'merged_etymologies',\n",
    "    'permanent_errors',\n",
    "    'progeny',\n",
    "    'random_etymologies',\n",
    "    'transliterations',\n",
    "    'wiktionary_page_dne'\n",
    "]\n",
    "refresh_tables(wp.cursor, exclude=excluded_tables)\n",
    "wp.conn.commit()"
   ]
  },
  {
   "cell_type": "code",
   "execution_count": null,
   "metadata": {
    "ExecuteTime": {
     "end_time": "2021-01-09T12:16:17.446983Z",
     "start_time": "2021-01-09T12:12:30.770039Z"
    },
    "hidden": true
   },
   "outputs": [],
   "source": [
    "# Rerun from all_connections failure (3m)\n",
    "data = wp.get_mysql_data_from_nodes(node_connections) # 9s\n",
    "roots, descs, table_sources, entry_numbers, places, confidences = data; del data\n",
    "wp.insert_unmatched_words_into_mysql()\n",
    "wp.insert_connections_into_mysql(roots, descs, table_sources, entry_numbers, places, confidences)"
   ]
  },
  {
   "cell_type": "code",
   "execution_count": null,
   "metadata": {
    "ExecuteTime": {
     "end_time": "2021-01-09T12:05:29.172811Z",
     "start_time": "2021-01-09T12:04:49.312Z"
    },
    "hidden": true
   },
   "outputs": [],
   "source": [
    "notify('done!')"
   ]
  },
  {
   "cell_type": "code",
   "execution_count": null,
   "metadata": {
    "ExecuteTime": {
     "end_time": "2021-01-09T12:20:06.938989Z",
     "start_time": "2021-01-09T12:20:05.272012Z"
    },
    "hidden": true
   },
   "outputs": [],
   "source": [
    "wp.conn.commit()"
   ]
  },
  {
   "cell_type": "markdown",
   "metadata": {},
   "source": [
    "# Update bad connections"
   ]
  },
  {
   "cell_type": "markdown",
   "metadata": {},
   "source": [
    "## Research bad connection"
   ]
  },
  {
   "cell_type": "code",
   "execution_count": null,
   "metadata": {
    "ExecuteTime": {
     "end_time": "2021-01-11T20:16:27.473612Z",
     "start_time": "2021-01-11T20:16:27.445988Z"
    }
   },
   "outputs": [],
   "source": [
    "c = wp.conn # DEVELOPMENT\n",
    "# root = 1003193; desc = 249159 # Proto-Italic magnos\n",
    "root,desc = 49619, 8\n",
    "\n",
    "# root=get_id(c,'animals','English'); desc=get_id(c,'breed','English')\n",
    "query = f\"\"\"\n",
    "    SELECT cs.root, cs.descendant, cs.table_source, e1.word, e1.language_name, e2.word, e2.language_name \n",
    "    FROM connection_sources cs \n",
    "    INNER JOIN etymologies e1 ON cs.root=e1._id \n",
    "    INNER JOIN etymologies e2 ON cs.descendant=e2._id \n",
    "    WHERE cs.root={root} \"\"\" + f\"\"\" AND cs.descendant={desc} \"\"\"\n",
    "data = c.cursor().e(query)\n",
    "for d in data:\n",
    "    print(f'(r:{d[0]}, d:{d[1]}, entry_id:{d[2]}) {d[3]}, {d[4]} => {d[5]}, {d[6]}')"
   ]
  },
  {
   "cell_type": "code",
   "execution_count": null,
   "metadata": {
    "ExecuteTime": {
     "end_time": "2021-01-11T20:19:57.307562Z",
     "start_time": "2021-01-11T20:19:49.008939Z"
    }
   },
   "outputs": [],
   "source": [
    "# See the list of connections\n",
    "entry_id = 2617096\n",
    "entry_data = get_entry_data_list_from_id_list(wp.conn, [entry_id]); entry_data\n",
    "\n",
    "# Or more stepwise\n",
    "wikitext = entry_data[0]['wikitext']; word = entry_data[0]['word']; \n",
    "language_name = entry_data[0]['language_name']; \n",
    "wtp = get_wikitext_parts_dict( wikitext, language_name, word, entry_id)\n",
    "conns, _ = get_entry_connections(wtp); conns\n",
    "node_conns = wp.get_nodes_from_connections(conns); node_conns\n",
    "mysql_data = wp.get_mysql_data_from_nodes(node_conns); mysql_data\n",
    "\n",
    "print('connections')\n",
    "for c in conns: print(' '.join(str(i) for i in c))\n",
    "# node_conns"
   ]
  },
  {
   "cell_type": "code",
   "execution_count": null,
   "metadata": {
    "ExecuteTime": {
     "end_time": "2021-01-11T20:19:32.080311Z",
     "start_time": "2021-01-11T20:19:32.059287Z"
    }
   },
   "outputs": [],
   "source": [
    "# Look at it more\n",
    "wikitext\n",
    "# wtp\n",
    "# conns\n",
    "# node_conns\n",
    "# mysql_data "
   ]
  },
  {
   "cell_type": "code",
   "execution_count": null,
   "metadata": {},
   "outputs": [],
   "source": [
    "# Original source: http://devserver.etymologyexplorer.com:8888/notebooks/projects/wordkin-support/support/jupyter/Connection%20Manager.ipynb\n",
    "# This will be great training data!!\n",
    "\n",
    "# (r:34485, 6082, 322812)  potare, Latin => con-, Latin\n",
    "# (r:1970733, 21180, ?) animals, English => breed, English\n",
    "# (r:1983787, 297736, 660717) ksōn(w)ja, Albanian => ξένϝος, Ancient Greek\n",
    "# (r:1983787, 297736, 1107985) ksōn(w)ja, Albanian => ξένϝος, Ancient Greek\n",
    "# (r:1984171, 37444, 685629) kórčo, Mozarabic => cortex, Latin\n",
    "# (r:5068, 3955, 174835) off, English => head, English\n",
    "# (r:49619, 8, 14159) similar, English => -ary, English\n",
    "# (r:201662, 15642, 807578) h₁epi, Proto-Indo-European => bonus, Latin\n",
    "# (r:1991407, 241721, 1212552) manner, Latin => -o, Latin\n",
    "# (r:37444, 5896, 819575) cortex, Latin => ex, Latin\n",
    "# (r:187948, 118841, 37366) wet-, Proto-Indo-European => per, Proto-Indo-European\n",
    "# (r:264389, 79947, 969676) yows-, Proto-Indo-European => ius, Latin\n",
    "# (r:1987084, 75309, 893719) inscriptions, Proto-Norse => éǵh₂, Proto-Indo-European\n",
    "# (r:1974448, 54135, 80636) me, Old Portuguese => ego, Latin\n",
    "# (r:153206, 83775, 581774) só, Proto-Indo-European => is, Latin\n",
    "# (r:1591662, 200433, 1221552) gręsti, Proto-Slavic => h₁ey-, Proto-Indo-European\n",
    "# (r:1990026, 2242, 1134033) purificus, Latin => facio, Latin\n",
    "# (r:502158, d:222531, entry_id:2617096) fermos, Proto-Italic => en-, Proto-Italic"
   ]
  },
  {
   "cell_type": "markdown",
   "metadata": {},
   "source": [
    "## Change parsing of initial wikitext and connection formation "
   ]
  },
  {
   "cell_type": "code",
   "execution_count": null,
   "metadata": {
    "ExecuteTime": {
     "end_time": "2021-01-10T17:09:24.793614Z",
     "start_time": "2021-01-10T17:09:24.776665Z"
    }
   },
   "outputs": [],
   "source": [
    "# Get connection results\n",
    "from types import SimpleNamespace \n",
    "entry_id = 20\n",
    "entry_dl = get_entry_data_list_from_id_list(wp.conn, [entry_id])\n",
    "n = SimpleNamespace(**entry_dl[0])\n",
    "wtp = get_wikitext_parts_dict( n.wikitext, n.language_name, n.word, n.entry_id); wtp\n",
    "conns, _ = get_entry_connections(wtp); conns\n",
    "# node_conns = wp.get_nodes_from_connections(conns); node_conns"
   ]
  },
  {
   "cell_type": "code",
   "execution_count": null,
   "metadata": {
    "ExecuteTime": {
     "end_time": "2021-01-10T17:09:05.419086Z",
     "start_time": "2021-01-10T17:09:05.406350Z"
    }
   },
   "outputs": [],
   "source": [
    "# Look closely at the problem connection\n",
    "wtp['{{m|sh|dȁh||breath}}']"
   ]
  },
  {
   "cell_type": "code",
   "execution_count": null,
   "metadata": {
    "ExecuteTime": {
     "end_time": "2021-01-10T17:08:27.192679Z",
     "start_time": "2021-01-10T17:08:27.180070Z"
    }
   },
   "outputs": [],
   "source": [
    "preprocess_etymology('1581, first mention is the derivative ')\n",
    "# remove_starting_clauses('1581, first mention is the derivative ')\n",
    "# remove_starting_clauses()"
   ]
  },
  {
   "cell_type": "code",
   "execution_count": null,
   "metadata": {
    "ExecuteTime": {
     "end_time": "2021-01-10T17:09:13.050177Z",
     "start_time": "2021-01-10T17:09:13.037267Z"
    }
   },
   "outputs": [],
   "source": [
    "from_str('. Though this etymology is generally accepted, the semantic link is uncertain. For a parallel development, Matasović compares the derivation of Serbo-Croatian odàhnuti from ')"
   ]
  },
  {
   "cell_type": "markdown",
   "metadata": {},
   "source": [
    "# Update connection generation of a single word"
   ]
  },
  {
   "cell_type": "markdown",
   "metadata": {},
   "source": [
    "## Full Process"
   ]
  },
  {
   "cell_type": "code",
   "execution_count": null,
   "metadata": {
    "ExecuteTime": {
     "end_time": "2021-01-11T20:20:13.728793Z",
     "start_time": "2021-01-11T20:20:13.709397Z"
    }
   },
   "outputs": [],
   "source": [
    "### CHECK THIS ###\n",
    "\n",
    "update_mysql = False \n",
    "\n",
    "### CHECK THIS ###"
   ]
  },
  {
   "cell_type": "code",
   "execution_count": null,
   "metadata": {
    "ExecuteTime": {
     "end_time": "2021-01-11T20:20:14.547853Z",
     "start_time": "2021-01-11T20:20:14.473905Z"
    }
   },
   "outputs": [],
   "source": [
    "main_word = 'compute'\n",
    "main_lang = 'English'\n",
    "main_id = get_id(wp.conn, main_word, main_lang)\n",
    "\n",
    "log_level('w')\n",
    "old, new = wp.single_recreate_etymology_tree_and_overwrite(main_id, update_mysql=update_mysql)\n",
    "log_level('i')\n",
    "word_id_list = [i for n in new+old for i in [n['root'], n['descendant']]]\n",
    "words_details = get_details(wp.conn, word_id_list)['words']\n",
    "words = {k:f'{v[\"word\"]}:{v[\"language_name\"]}' for k,v in words_details.items()}\n",
    "new = [[n['descendant'], n['root'], n['table_source']] for n in new]\n",
    "old = [[n['descendant'], n['root'], n['table_source']] for n in old]\n",
    "new_connections = [[words.get(n[0]), words.get(n[1]), n[2]] for n in new if not n in old]\n",
    "lost_connections = [[words[o[0]], words[o[1]], o[2]] for o in old if not o in new]\n",
    "if update_mysql:\n",
    "    wp.conn.commit()\n",
    "'new', new_connections, 'lost', lost_connections\n"
   ]
  },
  {
   "cell_type": "code",
   "execution_count": null,
   "metadata": {
    "ExecuteTime": {
     "end_time": "2021-01-11T20:20:19.070612Z",
     "start_time": "2021-01-11T20:20:19.045455Z"
    }
   },
   "outputs": [],
   "source": [
    "get_entry_info(wp.conn, 2990)"
   ]
  },
  {
   "cell_type": "code",
   "execution_count": null,
   "metadata": {
    "ExecuteTime": {
     "end_time": "2021-01-10T20:03:55.411376Z",
     "start_time": "2021-01-10T20:03:55.399193Z"
    }
   },
   "outputs": [],
   "source": [
    "# Changes to wikitext"
   ]
  },
  {
   "cell_type": "code",
   "execution_count": null,
   "metadata": {
    "ExecuteTime": {
     "end_time": "2021-01-10T20:08:27.051376Z",
     "start_time": "2021-01-10T20:08:05.785166Z"
    }
   },
   "outputs": [],
   "source": [
    "# Evaluate a single word from dump\n",
    "word = 'animus'\n",
    "lang = 'English'\n",
    "log_level('i')\n",
    "wp.single_process_word(word)\n",
    "_id = get_id(wp.conn, word, lang)\n",
    "entry_id = next(iter(get_details(wp.conn, _id)['words'][_id]['entries'].keys())); entry_id\n",
    "wp.processed_wikidump"
   ]
  },
  {
   "cell_type": "code",
   "execution_count": null,
   "metadata": {
    "ExecuteTime": {
     "end_time": "2021-01-10T20:09:00.072726Z",
     "start_time": "2021-01-10T20:09:00.058896Z"
    }
   },
   "outputs": [],
   "source": [
    "wikitext = wp.en_etys_dl[0]['wikitext']; wikitext"
   ]
  },
  {
   "cell_type": "code",
   "execution_count": null,
   "metadata": {
    "ExecuteTime": {
     "end_time": "2021-01-10T20:09:21.430029Z",
     "start_time": "2021-01-10T20:09:21.402967Z"
    }
   },
   "outputs": [],
   "source": [
    "wp.cursor.e(f'UPDATE entry_etymologies SET wikitext=%s WHERE entry_id={entry_id}', [wikitext])"
   ]
  },
  {
   "cell_type": "code",
   "execution_count": null,
   "metadata": {
    "ExecuteTime": {
     "end_time": "2021-01-10T20:09:27.716620Z",
     "start_time": "2021-01-10T20:09:27.682821Z"
    }
   },
   "outputs": [],
   "source": [
    "wp.conn.commit()"
   ]
  },
  {
   "cell_type": "code",
   "execution_count": null,
   "metadata": {
    "ExecuteTime": {
     "end_time": "2021-01-10T19:58:24.369308Z",
     "start_time": "2021-01-10T19:58:24.355156Z"
    }
   },
   "outputs": [],
   "source": [
    "wikitext_is_connection_forming('{{lbor|pt|la|animus||the soul, thoughts, intellect, ideas, will, thoughts, courage, etc.; the breath, life}}')"
   ]
  },
  {
   "cell_type": "code",
   "execution_count": null,
   "metadata": {
    "ExecuteTime": {
     "end_time": "2021-01-10T19:55:57.437560Z",
     "start_time": "2021-01-10T19:55:57.422960Z"
    }
   },
   "outputs": [],
   "source": [
    "wp.en_etys_dl"
   ]
  },
  {
   "cell_type": "markdown",
   "metadata": {},
   "source": [
    "# Create get_entry_connections Tests"
   ]
  },
  {
   "cell_type": "code",
   "execution_count": null,
   "metadata": {
    "ExecuteTime": {
     "end_time": "2021-01-11T18:39:48.841369Z",
     "start_time": "2021-01-11T18:39:48.822000Z"
    }
   },
   "outputs": [],
   "source": [
    "# This is referenced in downstream_tasks.py line ~1936\n",
    "# Test the entry connections\n",
    "# test_get_entry_connections(log=False)"
   ]
  },
  {
   "cell_type": "code",
   "execution_count": null,
   "metadata": {
    "ExecuteTime": {
     "end_time": "2021-01-11T20:24:32.721745Z",
     "start_time": "2021-01-11T20:24:32.633928Z"
    }
   },
   "outputs": [],
   "source": [
    "# Checking and creating tests\n",
    "\n",
    "# See the list of connections\n",
    "entry_id = 2990\n",
    "entry_data = get_entry_data_list_from_id_list(wp.conn, [entry_id]); entry_data\n",
    "\n",
    "# Or more stepwise\n",
    "wikitext = entry_data[0]['wikitext']; word = entry_data[0]['word']; \n",
    "language_name = entry_data[0]['language_name']; \n",
    "wtp = get_wikitext_parts_dict( wikitext, language_name, word, entry_id); wtp\n",
    "log_level('d')\n",
    "conns, _ = get_entry_connections(wtp, verbose=True); \n",
    "log_level('i')\n",
    "\n",
    "# Make and print the tests\n",
    "print(f'[ {json.dumps(wikitext)},')\n",
    "print(f'\\t{[ [c[0],c[1]] if \"{{eeStart\" not in c[0] else [\"{{eeStart|!|!}}\", c[1]] for c in conns]},')\n",
    "print(f\"\\t'Entry # {entry_id}. No comments' ],\")\n",
    "# node_conns = wp.get_nodes_from_connections(conns); node_conns\n",
    "# mysql_data = wp.get_mysql_data_from_nodes(node_conns); mysql_data"
   ]
  },
  {
   "cell_type": "code",
   "execution_count": null,
   "metadata": {
    "ExecuteTime": {
     "end_time": "2021-01-11T20:21:30.707146Z",
     "start_time": "2021-01-11T20:21:30.686247Z"
    }
   },
   "outputs": [],
   "source": [
    "entry_data"
   ]
  },
  {
   "cell_type": "markdown",
   "metadata": {},
   "source": [
    "# Temp"
   ]
  },
  {
   "cell_type": "code",
   "execution_count": null,
   "metadata": {},
   "outputs": [],
   "source": []
  }
 ],
 "metadata": {
  "kernelspec": {
   "display_name": "wikiextractor",
   "language": "python",
   "name": "wikiextractor"
  },
  "language_info": {
   "codemirror_mode": {
    "name": "ipython",
    "version": 3
   },
   "file_extension": ".py",
   "mimetype": "text/x-python",
   "name": "python",
   "nbconvert_exporter": "python",
   "pygments_lexer": "ipython3",
   "version": "3.9.1"
  }
 },
 "nbformat": 4,
 "nbformat_minor": 4
}
