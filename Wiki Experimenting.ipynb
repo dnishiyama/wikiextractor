{
 "cells": [
  {
   "cell_type": "code",
   "execution_count": 1,
   "metadata": {
    "ExecuteTime": {
     "end_time": "2021-01-09T02:54:53.702254Z",
     "start_time": "2021-01-09T02:54:53.071390Z"
    }
   },
   "outputs": [
    {
     "name": "stdout",
     "output_type": "stream",
     "text": [
      "1/6/21 dgnutils update loaded! Added more mysql db functions\n"
     ]
    }
   ],
   "source": [
    "%matplotlib inline\n",
    "%reload_ext autoreload\n",
    "%autoreload 2\n",
    "\n",
    "import mwparserfromhell\n",
    "from dgnutils import *\n",
    "# sys.path.append(\"/Users/nish/development/git/etymology_explorer/modules\")\n",
    "sys.path.append(\"/home/ubuntu/projects/etymology_explorer/modules\")\n",
    "from ety_utils import * # imports wikiextractor\n",
    "u = os.environ['RDS_ETY_USER']; p = os.environ['RDS_ETY_PASSWORD']; h = os.environ['RDS_ETY_HOST']\n",
    "session=requests.session()\n",
    "train_conn, train_cursor = connect('training_data', user=u, password=p, host=h)\n",
    "dev_conn, dev_cursor = connect('etymology_explorer_dev', user=u, password=p, host=h)\n",
    "# test_conn, test_cursor = connect('etymology_explorer_test', user=u, password=p, host=h)\n",
    "# stage_conn, stage_cursor = connect('etymology_explorer_staging', user=u, password=p, host=h)"
   ]
  },
  {
   "cell_type": "code",
   "execution_count": null,
   "metadata": {
    "ExecuteTime": {
     "end_time": "2021-01-08T19:48:59.136168Z",
     "start_time": "2021-01-08T19:48:59.114056Z"
    }
   },
   "outputs": [],
   "source": [
    "# Get these to pass!\n",
    "# preprocess_etymology('From banana and thus cognates with banan.') == 'From banana.'\n",
    "# preprocess_etymology('From {{test}}, from {{test}}, and related to {{test}}; test') == 'From {{test}}, from {{test}}; test'"
   ]
  },
  {
   "cell_type": "markdown",
   "metadata": {
    "heading_collapsed": true
   },
   "source": [
    "# Full load test"
   ]
  },
  {
   "cell_type": "code",
   "execution_count": null,
   "metadata": {
    "ExecuteTime": {
     "end_time": "2021-01-04T00:29:58.718562Z",
     "start_time": "2021-01-04T00:29:58.698096Z"
    },
    "hidden": true
   },
   "outputs": [],
   "source": [
    "# Create test xml\n",
    "# head -176497 enwiktionary-latest-pages-articles.xml > test.xml\n",
    "# echo \"</mediawiki>\" >> test.xml\n",
    "# wc -l test.xml\n",
    "# tail -100 test.xml\n",
    "# cd ..\n",
    "# ./WikiExtractor.py --processes 4 -o output_test --json --no_templates --lists --sections input/test.xml"
   ]
  },
  {
   "cell_type": "code",
   "execution_count": null,
   "metadata": {
    "ExecuteTime": {
     "end_time": "2021-01-04T23:56:35.137037Z",
     "start_time": "2021-01-04T23:56:35.120835Z"
    },
    "hidden": true
   },
   "outputs": [],
   "source": [
    "wp = WikiProcessor(\n",
    "    '/home/ubuntu/projects/wikiextractor/', \n",
    "    channel='test', # Test makes self.test = true\n",
    "#     channel='dev', \n",
    "    store_intermediates=True,\n",
    ")"
   ]
  },
  {
   "cell_type": "code",
   "execution_count": null,
   "metadata": {
    "ExecuteTime": {
     "end_time": "2021-01-04T23:56:37.434503Z",
     "start_time": "2021-01-04T23:56:37.412082Z"
    },
    "hidden": true
   },
   "outputs": [],
   "source": [
    "wp.load_wl_2_id_values()"
   ]
  },
  {
   "cell_type": "code",
   "execution_count": null,
   "metadata": {
    "ExecuteTime": {
     "end_time": "2021-01-04T00:42:09.183026Z",
     "start_time": "2021-01-04T00:42:09.132220Z"
    },
    "hidden": true
   },
   "outputs": [],
   "source": [
    "processed_wikidump = wp.load_wikidump_etymologies(); len(processed_wikidump)"
   ]
  },
  {
   "cell_type": "code",
   "execution_count": null,
   "metadata": {
    "ExecuteTime": {
     "end_time": "2021-01-04T00:42:33.002401Z",
     "start_time": "2021-01-04T00:42:10.259982Z"
    },
    "hidden": true
   },
   "outputs": [],
   "source": [
    "en_etys_dl, wp.en_dict = wp.create_and_insert_mysql_entries(processed_wikidump) # no cache"
   ]
  },
  {
   "cell_type": "code",
   "execution_count": null,
   "metadata": {
    "ExecuteTime": {
     "end_time": "2021-01-04T00:35:40.120413Z",
     "start_time": "2021-01-04T00:35:40.065150Z"
    },
    "hidden": true
   },
   "outputs": [],
   "source": [
    "test_cursor.e('SELECT COUNT(*) FROM etymologies')"
   ]
  },
  {
   "cell_type": "markdown",
   "metadata": {
    "heading_collapsed": true
   },
   "source": [
    "# Add links to etymologies "
   ]
  },
  {
   "cell_type": "code",
   "execution_count": null,
   "metadata": {
    "hidden": true
   },
   "outputs": [],
   "source": [
    "# Do a hack\n",
    "# Go through all new etymologies, and find instances where the expanded text matches to one of the existing etymologies, then add that to the etymology\n",
    "# Search through each unmatched etymology, look for (language, word) that links to an _id."
   ]
  },
  {
   "cell_type": "code",
   "execution_count": null,
   "metadata": {
    "ExecuteTime": {
     "end_time": "2021-01-04T23:56:56.086876Z",
     "start_time": "2021-01-04T23:56:56.035267Z"
    },
    "hidden": true
   },
   "outputs": [],
   "source": [
    "# Manually get all the etymologies\n",
    "# DO NOT RESET DATABASE\n",
    "wp = WikiProcessor('/home/ubuntu/projects/wikiextractor/', channel='staging', )\n",
    "wp.load_wl_2_id_values()\n",
    "wp.load_language_dict()\n",
    "log_level('d')"
   ]
  },
  {
   "cell_type": "markdown",
   "metadata": {
    "heading_collapsed": true,
    "hidden": true
   },
   "source": [
    "## Get en_etys_dl"
   ]
  },
  {
   "cell_type": "code",
   "execution_count": null,
   "metadata": {
    "ExecuteTime": {
     "end_time": "2021-01-04T17:22:00.687205Z",
     "start_time": "2021-01-04T17:21:44.390455Z"
    },
    "hidden": true
   },
   "outputs": [],
   "source": [
    "wp.load_wl_2_id_values() # 17s\n",
    "wp.load_language_dict() #1s"
   ]
  },
  {
   "cell_type": "code",
   "execution_count": null,
   "metadata": {
    "ExecuteTime": {
     "end_time": "2021-01-04T17:23:31.514590Z",
     "start_time": "2021-01-04T17:22:03.529420Z"
    },
    "hidden": true
   },
   "outputs": [],
   "source": [
    "processed_wikidump = wp.load_wikidump_etymologies(); len(processed_wikidump) # 1.5m on r4.2xl"
   ]
  },
  {
   "cell_type": "code",
   "execution_count": null,
   "metadata": {
    "ExecuteTime": {
     "end_time": "2021-01-04T17:32:26.054867Z",
     "start_time": "2021-01-04T17:31:20.270028Z"
    },
    "hidden": true
   },
   "outputs": [],
   "source": [
    "en_conns_dl, en_etys_dl, en_pos_dl, en_prons_dl, en_defs_dl, etys_dl = wp.create_mysql_data_from_processed_wikiextraction_data(processed_wikidump, log=True)"
   ]
  },
  {
   "cell_type": "code",
   "execution_count": null,
   "metadata": {
    "ExecuteTime": {
     "end_time": "2021-01-04T18:02:00.221127Z",
     "start_time": "2021-01-04T18:00:49.747434Z"
    },
    "hidden": true
   },
   "outputs": [],
   "source": [
    "parsed_etymologies_except_conns = multi_parse_wikitext_sentences(\n",
    "    [e['wikitext'] for e in en_etys_dl], \n",
    "    cache_file=wp.cache_path+'ety.wik' if wp.cache_path else None,\n",
    "    ignore_connection_forming=True,\n",
    ")\n",
    "en_etys_dl = [{**z[0], 'wikitext':z[1]} for z in zip(en_etys_dl, parsed_etymologies_except_conns)]"
   ]
  },
  {
   "cell_type": "code",
   "execution_count": null,
   "metadata": {
    "ExecuteTime": {
     "end_time": "2021-01-04T18:03:28.327186Z",
     "start_time": "2021-01-04T18:02:21.889322Z"
    },
    "hidden": true
   },
   "outputs": [],
   "source": [
    "parsed_etymologies = multi_parse_wikitext_sentences(\n",
    "    [e['wikitext'] for e in en_etys_dl], \n",
    "    cache_file=wp.cache_path+'ety.wik' if wp.cache_path else None,\n",
    "    ignore_connection_forming=False,\n",
    ")\n",
    "en_etys_dl = [{**z[0], 'etymology':z[1]} for z in zip(en_etys_dl, parsed_etymologies)]"
   ]
  },
  {
   "cell_type": "markdown",
   "metadata": {
    "hidden": true
   },
   "source": [
    "## start from en_etys_dl"
   ]
  },
  {
   "cell_type": "code",
   "execution_count": null,
   "metadata": {
    "ExecuteTime": {
     "end_time": "2021-01-04T23:57:03.056117Z",
     "start_time": "2021-01-04T23:56:59.713663Z"
    },
    "hidden": true
   },
   "outputs": [],
   "source": [
    "# Checkpoint\n",
    "# pickle.dump(en_etys_dl, open('en_etys_dl', 'wb+'))\n",
    "en_etys_dl = pickle.load(open('en_etys_dl', 'rb'))"
   ]
  },
  {
   "cell_type": "code",
   "execution_count": null,
   "metadata": {
    "ExecuteTime": {
     "end_time": "2021-01-04T23:57:11.759695Z",
     "start_time": "2021-01-04T23:57:11.745296Z"
    },
    "hidden": true
   },
   "outputs": [],
   "source": [
    "len(en_etys_dl), en_etys_dl[0]"
   ]
  },
  {
   "cell_type": "code",
   "execution_count": null,
   "metadata": {
    "ExecuteTime": {
     "end_time": "2021-01-05T00:27:30.533764Z",
     "start_time": "2021-01-05T00:27:30.518772Z"
    },
    "hidden": true
   },
   "outputs": [],
   "source": [
    "wp.wl_2_id[('dictionarium', 'Latin')]"
   ]
  },
  {
   "cell_type": "code",
   "execution_count": null,
   "metadata": {
    "ExecuteTime": {
     "end_time": "2021-01-05T00:24:55.794646Z",
     "start_time": "2021-01-05T00:24:55.781569Z"
    },
    "hidden": true
   },
   "outputs": [],
   "source": [
    "wp.getNodesFromTemplate('{{bor|en|ML.|dictionarium}}', 'root', allow_non_connections=True)\n",
    "# getTemplateInfo('{{bor|en|ML.|dictionarium}}')"
   ]
  },
  {
   "cell_type": "code",
   "execution_count": null,
   "metadata": {
    "ExecuteTime": {
     "end_time": "2021-01-05T00:08:08.797995Z",
     "start_time": "2021-01-05T00:08:08.783835Z"
    },
    "hidden": true
   },
   "outputs": [],
   "source": [
    "templates = mwparserfromhell.parse(en_etys_dl[0]['wikitext']).filter_templates(); templates\n",
    "[wp.getNodesFromTemplate(t, 'root') for t in templates]"
   ]
  },
  {
   "cell_type": "code",
   "execution_count": null,
   "metadata": {
    "hidden": true
   },
   "outputs": [],
   "source": [
    "for en_ety in en_etys_dl:\n",
    "    \n",
    "wp.load"
   ]
  },
  {
   "cell_type": "code",
   "execution_count": null,
   "metadata": {
    "hidden": true
   },
   "outputs": [],
   "source": [
    "# Check for multiple entries"
   ]
  },
  {
   "cell_type": "code",
   "execution_count": null,
   "metadata": {
    "ExecuteTime": {
     "end_time": "2021-01-04T18:47:30.602573Z",
     "start_time": "2021-01-04T18:47:30.166711Z"
    },
    "hidden": true
   },
   "outputs": [],
   "source": [
    "[a['etymology'] for a in all_entry_etymologies if 'Borrowed from Medieval Latin dictionarium' in a['etymology']]"
   ]
  },
  {
   "cell_type": "code",
   "execution_count": null,
   "metadata": {
    "hidden": true
   },
   "outputs": [],
   "source": [
    "processed_wikidump"
   ]
  },
  {
   "cell_type": "code",
   "execution_count": null,
   "metadata": {
    "ExecuteTime": {
     "end_time": "2021-01-04T17:45:13.405226Z",
     "start_time": "2021-01-04T17:45:02.242111Z"
    },
    "hidden": true
   },
   "outputs": [],
   "source": [
    "# 12.8s\n",
    "all_entry_etymologies = stage_cursor.d('SELECT entry_id, etymology FROM entry_etymologies')"
   ]
  },
  {
   "cell_type": "markdown",
   "metadata": {
    "heading_collapsed": true
   },
   "source": [
    "# Get entries info from wikitext"
   ]
  },
  {
   "cell_type": "code",
   "execution_count": null,
   "metadata": {
    "hidden": true
   },
   "outputs": [],
   "source": [
    "# Get all the wikitext entries (for now just a sample)\n",
    "\n",
    "# Find ones that have a gloss, or definition\n",
    "# Find the word and language for that wikitext, then the id\n",
    "# See if that id has an existing definition or entry"
   ]
  },
  {
   "cell_type": "markdown",
   "metadata": {
    "heading_collapsed": true
   },
   "source": [
    "# Improve interwikitext parsing"
   ]
  },
  {
   "cell_type": "markdown",
   "metadata": {
    "ExecuteTime": {
     "end_time": "2021-01-08T16:05:07.481433Z",
     "start_time": "2021-01-08T16:05:07.474629Z"
    },
    "hidden": true
   },
   "source": [
    "- Reduce the interwiki text to the important information. i.e. remove unhelpful information\n",
    "- Grab all interwikitext\n",
    "- Make a plot of the frequencies for reference\n",
    "- Reduce them to the most common with regex etc\n",
    "- Count\n",
    "  - Staring: 121506\n",
    "  - after stranded punctuation fix: 119934\n",
    "  - after another comma fix: 119886\n",
    "  - after removing cognates: 114426 "
   ]
  },
  {
   "cell_type": "code",
   "execution_count": null,
   "metadata": {
    "ExecuteTime": {
     "end_time": "2021-01-08T16:44:37.084777Z",
     "start_time": "2021-01-08T16:42:38.211772Z"
    },
    "hidden": true
   },
   "outputs": [],
   "source": [
    "sql_stmt = \"\"\" \n",
    "SELECT _id, word, language_name, ee.entry_id, wikitext FROM entry_etymologies ee\n",
    "INNER JOIN entry_connections ec ON ee.entry_id = ec.entry_id\n",
    "INNER JOIN etymologies e ON e._id = ec.etymology_id \"\"\"\n",
    "    # sql_stmt += ' LIMIT 5' # for testing\n",
    "    # sql_stmt += ' WHERE _id = 204484 '"
   ]
  },
  {
   "cell_type": "code",
   "execution_count": null,
   "metadata": {
    "ExecuteTime": {
     "end_time": "2021-01-08T18:41:25.653548Z",
     "start_time": "2021-01-08T18:41:23.272302Z"
    },
    "hidden": true
   },
   "outputs": [],
   "source": [
    "# wikitext_data = dev_cursor.d(sql_stmt) # 90s - 120s\n",
    "# pickle.dump(wikitext_data, open('wikitext_data', 'wb+'))\n",
    "wikitext_data = pickle.load(open('wikitext_data', 'rb')) # 2s"
   ]
  },
  {
   "cell_type": "code",
   "execution_count": null,
   "metadata": {
    "ExecuteTime": {
     "end_time": "2021-01-08T19:51:54.419312Z",
     "start_time": "2021-01-08T19:49:42.467001Z"
    },
    "hidden": true
   },
   "outputs": [],
   "source": [
    "sentiment_data={} # 80s 120s\n",
    "for wi in wikitext_data:\n",
    "    for g in get_wikitext_parts_dict(**wi).values():\n",
    "        if g['preceding_text'] == '' and g['place'] == 0: continue\n",
    "        sentiment_data.setdefault(g['preceding_text'],{}).setdefault('entry_ids', []).append(wi['entry_id'])\n",
    "        if not 'sentiment_type' in sentiment_data[g['preceding_text']]:\n",
    "            sentiment_data[g['preceding_text']]['sentiment_type'] = get_sentiment_type(g['preceding_text']) \n",
    "len(sentiment_data)"
   ]
  },
  {
   "cell_type": "code",
   "execution_count": null,
   "metadata": {
    "ExecuteTime": {
     "end_time": "2021-01-08T19:59:04.682190Z",
     "start_time": "2021-01-08T19:59:04.644995Z"
    },
    "hidden": true
   },
   "outputs": [],
   "source": [
    "etymology = 'As a verb, {{test}} from [[test]] {{inh{{test}}|en|enm|springen||to burst or flow forth, to sprout, to emerge, to happen, to become known, to sprinkle}}, from {{inh|en|ang|springan||to burst or flow forth, to sprout, to emerge, to become known}}, cognate with {{cog|af|spring}}, {{cog|fy|springe}}, Dutch & German {{m|nl|springen}}, {{cog|da|springe}}, {{cog|sv|springa}}. Further etymology is uncertain, but usually taken to derive from a __wiki__ verb reconstructed as {{m|gem-pro|*springaną||to burst forth}}, from a __wiki__ root reconstructed {{m|ine-pro|*sperǵʰ-}} whose other descendants may include {{cog|lt|spreñgti||to push (in)}}, {{cog|cu|прѧсти||to spin, to stretch}}, {{cog|la|spargere||to sprinkle, to scatter}}, {{cog|grc|σπέρχω||to hasten}}, {{cog|sa|स्पृहयति|tr=spṛháyati||to be eager}}. Some newer senses derived from the noun. As a noun, from {{inh|en|enm|spring||a wellspring, tide, branch, sunrise, kind of dance or blow, ulcer, snare, flock}}, from {{inh|en|ang|spring||wellspring, ulcer}} and {{inh|en|ang|spryng||a jump}}, from ablaut forms of the __wiki__ verb. Further senses derived from the verb and from clippings of {{m|en|day-spring}}, {{m|en|springtime}}, {{m|en|spring tide}}, etc. Its sense as the season, first attested in a work predating 1325, gradually replaced Old English {{m|ang|lencten||spring, Lent}} as that word became more specifically liturgical. Compare {{m|en|fall}}.'\n",
    "m = mwparserfromhell.parse(etymology)\n",
    "wiki_dict = {str(m)[2:-2]:i for i,m in enumerate(list(m.filter_templates(recursive=False)))}\n",
    "wiki_dict\n",
    "for wiki,index in sorted(wiki_dict.items(), key=lambda x: len(x[0]), reverse=True): # sort by length\n",
    "    etymology = etymology.replace(wiki, str(index))\n",
    "etymology"
   ]
  },
  {
   "cell_type": "code",
   "execution_count": null,
   "metadata": {
    "hidden": true
   },
   "outputs": [],
   "source": [
    "def protect_wikis(text):\n",
    "    \"\"\"\n",
    "    replace wikitext {{test|text}} with {{0}} and store the text in a dict\n",
    "    \"\"\"\n",
    "    wiki_dict = {}\n",
    "    for \n",
    "    \n",
    "etymology, protect_wikis_dict = def (etymology)"
   ]
  },
  {
   "cell_type": "code",
   "execution_count": null,
   "metadata": {
    "ExecuteTime": {
     "end_time": "2021-01-08T18:40:49.738028Z",
     "start_time": "2021-01-08T18:40:49.714631Z"
    },
    "hidden": true
   },
   "outputs": [],
   "source": [
    "# assert fix_broken_punctuation('{{cog|crh|kim}} ,{{cog|krc|ким|tr=kim}}') == '{{cog|crh|kim}}, {{cog|krc|ким|tr=kim}}'\n",
    "# preprocess_etymology('From {{inh|kdr|trk-pro|*kem|gloss=who}}. Relate to {{cog|crh|kim}} ,{{cog|krc|ким|tr=kim}} ,{{cog|kum|ким|tr=kim}} , {{cog|uum|ким|tr=kim}} ,{{cog|kim|ӄум|tr=qum}}, {{cog|tyv|кым}}, etc.')"
   ]
  },
  {
   "cell_type": "code",
   "execution_count": null,
   "metadata": {
    "hidden": true
   },
   "outputs": [],
   "source": [
    "# remove everything after \". Cognate\"\n",
    "# handle \"\" words\n",
    "# remove duplicated punctuation like \", , \"\n",
    "# fix \"(spore):, \" Danish spore"
   ]
  },
  {
   "cell_type": "code",
   "execution_count": null,
   "metadata": {
    "ExecuteTime": {
     "end_time": "2021-01-08T19:28:55.177786Z",
     "start_time": "2021-01-08T19:28:55.150796Z"
    },
    "hidden": true
   },
   "outputs": [],
   "source": [
    "get_entry_info(dev_conn, enid)"
   ]
  },
  {
   "cell_type": "code",
   "execution_count": null,
   "metadata": {
    "ExecuteTime": {
     "end_time": "2021-01-08T19:28:17.447991Z",
     "start_time": "2021-01-08T19:28:17.415208Z"
    },
    "hidden": true
   },
   "outputs": [],
   "source": [
    "enid = 2012\n",
    "w = next(iter(get_entry_info(dev_conn, enid)['words'].values()))['entries'][enid]['wikitext']\n",
    "print(w), print(), print(preprocess_etymology(w));"
   ]
  },
  {
   "cell_type": "code",
   "execution_count": null,
   "metadata": {
    "ExecuteTime": {
     "end_time": "2021-01-08T19:15:13.275022Z",
     "start_time": "2021-01-08T19:15:13.260830Z"
    },
    "hidden": true
   },
   "outputs": [],
   "source": [
    "a = r'([Rr]elate|[Cc]ognate)[^.;!?]*([^.;!?]|$)'\n",
    "re.sub(a, '', 'From {{test}} and related to banana. From {{something}} else')\n",
    "re.sub(a, '', 'From {{test}} and related to banana. From {{something}} else')"
   ]
  },
  {
   "cell_type": "code",
   "execution_count": null,
   "metadata": {
    "ExecuteTime": {
     "end_time": "2021-01-08T19:27:35.701275Z",
     "start_time": "2021-01-08T19:27:33.514258Z"
    },
    "hidden": true
   },
   "outputs": [],
   "source": [
    "# Remove Cognates\n",
    "results = [[s, sentiment_data[s]['entry_ids']] for s in sentiment_data if re.search(r' ([Rr]elate|[Cc]ognate)[^.]*', s)]\n",
    "\n",
    "# results = [\n",
    "#     [s, sentiment_data[s]['entry_ids']]\n",
    "#     for s in sentiment_data \n",
    "#     if \n",
    "#         re.search(r' [Rr]elate[^.]*', s) \n",
    "#         and not re.search(r' ([Cc]ognate|[Rr]elated)[^.]*', s)\n",
    "# ]\n",
    "results = sorted(results, key=lambda x: len(x[1]), reverse=True)\n",
    "print(len(results), 'results')\n",
    "for result in results:\n",
    "    print(f'\"{result[0]}\"', result[1][:4])"
   ]
  },
  {
   "cell_type": "code",
   "execution_count": null,
   "metadata": {
    "ExecuteTime": {
     "end_time": "2021-01-08T18:53:01.085145Z",
     "start_time": "2021-01-08T18:53:00.898762Z"
    },
    "hidden": true
   },
   "outputs": [],
   "source": [
    "# evaluate this more (quoted words)\n",
    "# [[s, sentiment_data[s]['entry_ids']] for s in sentiment_data if re.search(r'\\\"[^ ]+\\\"', s)]"
   ]
  },
  {
   "cell_type": "markdown",
   "metadata": {},
   "source": [
    "# Manual Processing"
   ]
  },
  {
   "cell_type": "code",
   "execution_count": 2,
   "metadata": {
    "ExecuteTime": {
     "end_time": "2021-01-09T02:54:57.036507Z",
     "start_time": "2021-01-09T02:54:57.019659Z"
    }
   },
   "outputs": [],
   "source": [
    "wp = WikiProcessor(\n",
    "    '/home/ubuntu/projects/wikiextractor/', \n",
    "#     channel='test', # Test makes self.test = true\n",
    "    channel='dev', \n",
    "    store_intermediates=True,\n",
    ")"
   ]
  },
  {
   "cell_type": "code",
   "execution_count": null,
   "metadata": {
    "ExecuteTime": {
     "start_time": "2021-01-09T02:55:08.679Z"
    }
   },
   "outputs": [],
   "source": [
    "# After get_wikitext_part_array() fails # 160 s\n",
    "# en_etys_dl = wp.cursor.d('SELECT * FROM entry_etymologies') # 22s\n",
    "# en_conns_dl = wp.cursor.d('SELECT * FROM entry_connections') # 15s\n",
    "# en_2_ety = {e['entry_id']:e['etymology_id'] for e in en_conns_dl} #0s\n",
    "# etys_dl = wp.cursor.d('SELECT _id, word, language_name FROM etymologies') # 80s\n",
    "# etys_dict = {e['_id']:e for e in etys_dl} # 1s\n",
    "# wp.en_dict = {e['entry_id']:e['entry_number'] for e in en_conns_dl} # Needed later\n",
    "# en_etys_dl_plus = [{**e, **etys_dict[en_2_ety[e['entry_id']]]} for e in en_etys_dl] # 3s"
   ]
  },
  {
   "cell_type": "code",
   "execution_count": null,
   "metadata": {
    "ExecuteTime": {
     "end_time": "2021-01-09T02:43:14.392937Z",
     "start_time": "2021-01-09T02:42:57.951645Z"
    }
   },
   "outputs": [],
   "source": [
    "# wikitext_part_array = wp.get_wikitext_part_array(en_etys_dl_plus) # 150s\n",
    "# pickle.dump(wikitext_part_array, open('wikitext_part_array', 'wb+'))\n",
    "# wikitext_part_array = pickle.load(open('wikitext_part_array', 'rb'))"
   ]
  },
  {
   "cell_type": "code",
   "execution_count": null,
   "metadata": {
    "ExecuteTime": {
     "start_time": "2021-01-09T02:55:22.253Z"
    }
   },
   "outputs": [],
   "source": [
    "# all_connections, _ = wp.get_connections_from_wikitext_parts(wikitext_part_array) # 60s\n",
    "# pickle.dump(all_connections, open('all_connections', 'wb+'))\n",
    "all_connections = pickle.load(open('all_connections', 'rb'))"
   ]
  },
  {
   "cell_type": "code",
   "execution_count": null,
   "metadata": {
    "ExecuteTime": {
     "end_time": "2021-01-09T02:52:07.014525Z",
     "start_time": "2021-01-09T02:51:17.655939Z"
    }
   },
   "outputs": [],
   "source": [
    "wp.load_wl_2_id_values() # 90s\n",
    "wp.load_language_dict() # 0s\n",
    "node_connections = wp.get_nodes_from_connections(all_connections) # 60s"
   ]
  },
  {
   "cell_type": "code",
   "execution_count": null,
   "metadata": {
    "ExecuteTime": {
     "end_time": "2021-01-09T02:53:47.736088Z",
     "start_time": "2021-01-09T02:53:47.520202Z"
    }
   },
   "outputs": [],
   "source": [
    "excluded_tables = [ # all tables\n",
    "    'ancestors',\n",
    "    'common_words',\n",
    "    # 'connection_sources',\n",
    "    # 'connections',\n",
    "    'database_errors',\n",
    "    'entry_connections',\n",
    "    'entry_definitions', \n",
    "    'entry_etymologies',\n",
    "    'entry_pos',\n",
    "    'entry_pronunciations',\n",
    "    'etymologies',\n",
    "    'kin',\n",
    "    'languages',\n",
    "    'merged_etymologies',\n",
    "    'permanent_errors',\n",
    "    'progeny',\n",
    "    'random_etymologies',\n",
    "    'transliterations',\n",
    "    'wiktionary_page_dne'\n",
    "]\n",
    "refresh_tables(wp.cursor, exclude=excluded_tables)\n",
    "wp.conn.commit()"
   ]
  },
  {
   "cell_type": "code",
   "execution_count": null,
   "metadata": {
    "ExecuteTime": {
     "end_time": "2021-01-09T02:53:59.098941Z",
     "start_time": "2021-01-09T02:53:49.975535Z"
    }
   },
   "outputs": [],
   "source": [
    "# Rerun from all_connections failure (3m)\n",
    "data = wp.get_mysql_data_from_nodes(node_connections) # 9s\n",
    "roots, descs, table_sources, entry_numbers, places = data; del data\n",
    "wp.insert_unmatched_words_into_mysql()\n",
    "wp.insert_connections_into_mysql(roots, descs, table_sources, entry_numbers, places)"
   ]
  },
  {
   "cell_type": "code",
   "execution_count": null,
   "metadata": {
    "ExecuteTime": {
     "end_time": "2021-01-09T02:53:59.100655Z",
     "start_time": "2021-01-09T02:53:58.586Z"
    }
   },
   "outputs": [],
   "source": [
    "notify('done!')"
   ]
  },
  {
   "cell_type": "code",
   "execution_count": null,
   "metadata": {
    "ExecuteTime": {
     "end_time": "2021-01-09T02:35:11.830298Z",
     "start_time": "2021-01-09T02:35:10.077584Z"
    }
   },
   "outputs": [],
   "source": [
    "wp.conn.commit()"
   ]
  },
  {
   "cell_type": "markdown",
   "metadata": {},
   "source": [
    "# Check bad connections"
   ]
  },
  {
   "cell_type": "code",
   "execution_count": null,
   "metadata": {
    "ExecuteTime": {
     "end_time": "2021-01-09T00:28:04.691765Z",
     "start_time": "2021-01-09T00:28:04.673745Z"
    }
   },
   "outputs": [],
   "source": [
    "wp = WikiProcessor(\n",
    "    '/home/ubuntu/projects/wikiextractor/', \n",
    "    channel='dev', \n",
    "    store_intermediates=True,\n",
    ")"
   ]
  },
  {
   "cell_type": "code",
   "execution_count": null,
   "metadata": {
    "ExecuteTime": {
     "end_time": "2021-01-09T00:28:06.816667Z",
     "start_time": "2021-01-09T00:28:06.799097Z"
    }
   },
   "outputs": [],
   "source": [
    "c = dev_conn # DEVELOPMENT\n",
    "# root = 1003193; desc = 249159 # Proto-Italic magnos\n",
    "root = 1708738; desc = 192563\n",
    "\n",
    "# root=get_id(c,'animals','English'); desc=get_id(c,'breed','English')\n",
    "query = f\"\"\"\n",
    "    SELECT cs.root, cs.descendant, cs.table_source, e1.word, e1.language_name, e2.word, e2.language_name \n",
    "    FROM connection_sources cs \n",
    "    INNER JOIN etymologies e1 ON cs.root=e1._id \n",
    "    INNER JOIN etymologies e2 ON cs.descendant=e2._id \n",
    "    WHERE cs.root={root} \"\"\" + f\"\"\" AND cs.descendant={desc} \"\"\"\n",
    "data = c.cursor().e(query)\n",
    "for d in data:\n",
    "    print(f'({d[0]}, {d[1]}, {d[2]}) {d[3]}, {d[4]} => {d[5]}, {d[6]}')"
   ]
  },
  {
   "cell_type": "code",
   "execution_count": null,
   "metadata": {
    "ExecuteTime": {
     "end_time": "2021-01-09T01:21:02.215042Z",
     "start_time": "2021-01-09T01:19:53.357541Z"
    }
   },
   "outputs": [],
   "source": [
    "dev_cursor.e('ALTER TABLE connection_sources ADD COLUMN place tinyint NOT NULL AFTER entry_number;')"
   ]
  },
  {
   "cell_type": "code",
   "execution_count": null,
   "metadata": {
    "ExecuteTime": {
     "end_time": "2021-01-09T01:21:49.467508Z",
     "start_time": "2021-01-09T01:21:49.450884Z"
    }
   },
   "outputs": [],
   "source": [
    "dev_cursor.d('SELECT * FROM connection_sources LIMIT 1')"
   ]
  },
  {
   "cell_type": "code",
   "execution_count": null,
   "metadata": {
    "ExecuteTime": {
     "end_time": "2021-01-09T00:31:04.006488Z",
     "start_time": "2021-01-09T00:31:03.650685Z"
    }
   },
   "outputs": [],
   "source": [
    "enid = 2453428\n",
    "g = get_entry_info(c, enid)\n",
    "wikitext = next(iter(g['words'].values()))['entries'][enid]['wikitext']; wikitext #g\n",
    "wp.get_connections_from_single_wikitext(wikitext)\n",
    "# get_wikitext_parts_dict(**{'wikitext': wikitext, 'language_name': 'start_language', 'word': 'start_word', 'entry_id': 0})\n",
    "# get_entry_connections(wikitext_parts)"
   ]
  },
  {
   "cell_type": "code",
   "execution_count": null,
   "metadata": {},
   "outputs": [],
   "source": [
    "# Original source: http://devserver.etymologyexplorer.com:8888/notebooks/projects/wordkin-support/support/jupyter/Connection%20Manager.ipynb\n",
    "# (34485, 6082, 322812)  potare, Latin => con-, Latin\n",
    "# (1970733, 21180, ?) animals, English => breed, English\n",
    "# (1983787, 297736, 660717) ksōn(w)ja, Albanian => ξένϝος, Ancient Greek\n",
    "# (1983787, 297736, 1107985) ksōn(w)ja, Albanian => ξένϝος, Ancient Greek\n",
    "# (1984171, 37444, 685629) kórčo, Mozarabic => cortex, Latin\n",
    "# (5068, 3955, 174835) off, English => head, English\n",
    "# (49619, 8, 14159) similar, English => -ary, English\n",
    "# (201662, 15642, 807578) h₁epi, Proto-Indo-European => bonus, Latin\n",
    "# (1991407, 241721, 1212552) manner, Latin => -o, Latin\n",
    "# (37444, 5896, 819575) cortex, Latin => ex, Latin\n",
    "# (187948, 118841, 37366) wet-, Proto-Indo-European => per, Proto-Indo-European\n",
    "# (264389, 79947, 969676) yows-, Proto-Indo-European => ius, Latin\n",
    "# (1987084, 75309, 893719) inscriptions, Proto-Norse => éǵh₂, Proto-Indo-European\n",
    "# (1974448, 54135, 80636) me, Old Portuguese => ego, Latin\n",
    "# (153206, 83775, 581774) só, Proto-Indo-European => is, Latin\n",
    "# (1591662, 200433, 1221552) gręsti, Proto-Slavic => h₁ey-, Proto-Indo-European\n",
    "# (1990026, 2242, 1134033) purificus, Latin => facio, Latin"
   ]
  }
 ],
 "metadata": {
  "kernelspec": {
   "display_name": "wikiextractor",
   "language": "python",
   "name": "wikiextractor"
  },
  "language_info": {
   "codemirror_mode": {
    "name": "ipython",
    "version": 3
   },
   "file_extension": ".py",
   "mimetype": "text/x-python",
   "name": "python",
   "nbconvert_exporter": "python",
   "pygments_lexer": "ipython3",
   "version": "3.9.1"
  }
 },
 "nbformat": 4,
 "nbformat_minor": 4
}
