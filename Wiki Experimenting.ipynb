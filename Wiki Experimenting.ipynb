{
 "cells": [
  {
   "cell_type": "code",
   "execution_count": 1,
   "metadata": {
    "ExecuteTime": {
     "end_time": "2021-01-04T23:56:32.471995Z",
     "start_time": "2021-01-04T23:56:31.135128Z"
    }
   },
   "outputs": [
    {
     "name": "stdout",
     "output_type": "stream",
     "text": [
      "10/02/20 dgnutils update loaded! Added getFloat\n"
     ]
    }
   ],
   "source": [
    "%matplotlib inline\n",
    "%reload_ext autoreload\n",
    "%autoreload 2\n",
    "\n",
    "import mwparserfromhell\n",
    "from dgnutils import *\n",
    "# sys.path.append(\"/Users/nish/development/git/etymology_explorer/modules\")\n",
    "sys.path.append(\"/home/ubuntu/projects/etymology_explorer/modules\")\n",
    "from ety_utils import * # imports wikiextractor\n",
    "u = os.environ['RDS_ETY_USER']; p = os.environ['RDS_ETY_PASSWORD']; h = os.environ['RDS_ETY_HOST']\n",
    "session=requests.session()\n",
    "test_conn, test_cursor = connect('etymology_explorer_test', user=u, password=p, host=h)\n",
    "# dev_conn, dev_cursor = connect('etymology_explorer_dev', user=u, password=p, host=h)\n",
    "stage_conn, stage_cursor = connect('etymology_explorer_staging', user=u, password=p, host=h)"
   ]
  },
  {
   "cell_type": "markdown",
   "metadata": {
    "heading_collapsed": true
   },
   "source": [
    "# Full load test"
   ]
  },
  {
   "cell_type": "code",
   "execution_count": null,
   "metadata": {
    "ExecuteTime": {
     "end_time": "2021-01-04T00:29:58.718562Z",
     "start_time": "2021-01-04T00:29:58.698096Z"
    },
    "hidden": true
   },
   "outputs": [],
   "source": [
    "# Create test xml\n",
    "# head -176497 enwiktionary-latest-pages-articles.xml > test.xml\n",
    "# echo \"</mediawiki>\" >> test.xml\n",
    "# wc -l test.xml\n",
    "# tail -100 test.xml\n",
    "# cd ..\n",
    "# ./WikiExtractor.py --processes 4 -o output_test --json --no_templates --lists --sections input/test.xml"
   ]
  },
  {
   "cell_type": "code",
   "execution_count": 2,
   "metadata": {
    "ExecuteTime": {
     "end_time": "2021-01-04T23:56:35.137037Z",
     "start_time": "2021-01-04T23:56:35.120835Z"
    },
    "hidden": true
   },
   "outputs": [],
   "source": [
    "wp = WikiProcessor(\n",
    "    '/home/ubuntu/projects/wikiextractor/', \n",
    "    channel='test', # Test makes self.test = true\n",
    "#     channel='dev', \n",
    "    store_intermediates=True,\n",
    ")"
   ]
  },
  {
   "cell_type": "code",
   "execution_count": 3,
   "metadata": {
    "ExecuteTime": {
     "end_time": "2021-01-04T23:56:37.434503Z",
     "start_time": "2021-01-04T23:56:37.412082Z"
    },
    "hidden": true
   },
   "outputs": [],
   "source": [
    "wp.load_wl_2_id_values()"
   ]
  },
  {
   "cell_type": "code",
   "execution_count": 6,
   "metadata": {
    "ExecuteTime": {
     "end_time": "2021-01-04T00:42:09.183026Z",
     "start_time": "2021-01-04T00:42:09.132220Z"
    },
    "hidden": true
   },
   "outputs": [
    {
     "data": {
      "text/plain": [
       "977"
      ]
     },
     "execution_count": 6,
     "metadata": {},
     "output_type": "execute_result"
    }
   ],
   "source": [
    "processed_wikidump = wp.load_wikidump_etymologies(); len(processed_wikidump)"
   ]
  },
  {
   "cell_type": "code",
   "execution_count": 7,
   "metadata": {
    "ExecuteTime": {
     "end_time": "2021-01-04T00:42:33.002401Z",
     "start_time": "2021-01-04T00:42:10.259982Z"
    },
    "hidden": true
   },
   "outputs": [
    {
     "name": "stdout",
     "output_type": "stream",
     "text": [
      "Step 0/1: 4 results\n"
     ]
    }
   ],
   "source": [
    "en_etys_dl, wp.en_dict = wp.create_and_insert_mysql_entries(processed_wikidump) # no cache"
   ]
  },
  {
   "cell_type": "code",
   "execution_count": null,
   "metadata": {
    "ExecuteTime": {
     "end_time": "2021-01-04T00:35:40.120413Z",
     "start_time": "2021-01-04T00:35:40.065150Z"
    },
    "hidden": true
   },
   "outputs": [],
   "source": [
    "test_cursor.e('SELECT COUNT(*) FROM etymologies')"
   ]
  },
  {
   "cell_type": "markdown",
   "metadata": {},
   "source": [
    "# Add links to etymologies "
   ]
  },
  {
   "cell_type": "code",
   "execution_count": null,
   "metadata": {},
   "outputs": [],
   "source": [
    "# Do a hack\n",
    "# Go through all new etymologies, and find instances where the expanded text matches to one of the existing etymologies, then add that to the etymology\n",
    "# Search through each unmatched etymology, look for (language, word) that links to an _id."
   ]
  },
  {
   "cell_type": "code",
   "execution_count": 4,
   "metadata": {
    "ExecuteTime": {
     "end_time": "2021-01-04T23:56:56.086876Z",
     "start_time": "2021-01-04T23:56:56.035267Z"
    }
   },
   "outputs": [],
   "source": [
    "# Manually get all the etymologies\n",
    "# DO NOT RESET DATABASE\n",
    "wp = WikiProcessor('/home/ubuntu/projects/wikiextractor/', channel='staging', )\n",
    "wp.load_wl_2_id_values()\n",
    "wp.load_language_dict()\n",
    "log_level('d')"
   ]
  },
  {
   "cell_type": "markdown",
   "metadata": {
    "heading_collapsed": true
   },
   "source": [
    "## Get en_etys_dl"
   ]
  },
  {
   "cell_type": "code",
   "execution_count": 5,
   "metadata": {
    "ExecuteTime": {
     "end_time": "2021-01-04T17:22:00.687205Z",
     "start_time": "2021-01-04T17:21:44.390455Z"
    },
    "hidden": true
   },
   "outputs": [
    {
     "name": "stderr",
     "output_type": "stream",
     "text": [
      "INFO:root:Creating wl_2_id dictionary...\n"
     ]
    }
   ],
   "source": [
    "wp.load_wl_2_id_values() # 17s\n",
    "wp.load_language_dict() #1s"
   ]
  },
  {
   "cell_type": "code",
   "execution_count": 6,
   "metadata": {
    "ExecuteTime": {
     "end_time": "2021-01-04T17:23:31.514590Z",
     "start_time": "2021-01-04T17:22:03.529420Z"
    },
    "hidden": true
   },
   "outputs": [
    {
     "name": "stderr",
     "output_type": "stream",
     "text": [
      "INFO:root:Processing wikiextractor directory /home/ubuntu/projects/wikiextractor/output/\n",
      "DEBUG:root:Processing wikiextractor directory: AA\n",
      "DEBUG:root:Processing wikiextractor directory: AB\n",
      "DEBUG:root:Processing wikiextractor directory: AC\n",
      "DEBUG:root:Processing wikiextractor directory: AD\n",
      "DEBUG:root:Processing wikiextractor directory: AE\n",
      "DEBUG:root:Processing wikiextractor directory: AF\n",
      "DEBUG:root:Processing wikiextractor directory: AG\n",
      "DEBUG:root:Processing wikiextractor directory: AH\n",
      "DEBUG:root:Processing wikiextractor directory: AI\n",
      "DEBUG:root:Processing wikiextractor directory: AJ\n",
      "DEBUG:root:Processing wikiextractor directory: AK\n",
      "DEBUG:root:Processing wikiextractor directory: AL\n",
      "DEBUG:root:Processing wikiextractor directory: AM\n",
      "DEBUG:root:Processing wikiextractor directory: AN\n",
      "DEBUG:root:Processing wikiextractor directory: AO\n",
      "INFO:root:Finished on AO, 47. Found 6380374 words\n"
     ]
    }
   ],
   "source": [
    "processed_wikidump = wp.load_wikidump_etymologies(); len(processed_wikidump) # 1.5m on r4.2xl"
   ]
  },
  {
   "cell_type": "code",
   "execution_count": 12,
   "metadata": {
    "ExecuteTime": {
     "end_time": "2021-01-04T17:32:26.054867Z",
     "start_time": "2021-01-04T17:31:20.270028Z"
    },
    "hidden": true
   },
   "outputs": [
    {
     "name": "stdout",
     "output_type": "stream",
     "text": [
      "6350000 / 6380374\r"
     ]
    },
    {
     "name": "stderr",
     "output_type": "stream",
     "text": [
      "INFO:root:Found 7072848 new connections to insert\n",
      "INFO:root:Found 1453725 new etymologies to insert\n",
      "INFO:root:Found 6699058 new pos to insert\n",
      "INFO:root:Found 1424616 new pronunciations to insert\n",
      "INFO:root:Found 9060557 new definitions to insert\n"
     ]
    }
   ],
   "source": [
    "en_conns_dl, en_etys_dl, en_pos_dl, en_prons_dl, en_defs_dl, etys_dl = wp.create_mysql_data_from_processed_wikiextraction_data(processed_wikidump, log=True)"
   ]
  },
  {
   "cell_type": "code",
   "execution_count": 27,
   "metadata": {
    "ExecuteTime": {
     "end_time": "2021-01-04T18:02:00.221127Z",
     "start_time": "2021-01-04T18:00:49.747434Z"
    },
    "collapsed": true,
    "hidden": true
   },
   "outputs": [
    {
     "name": "stderr",
     "output_type": "stream",
     "text": [
      "DEBUG:root:Generating list of used wikitexts...\n",
      "DEBUG:root:Using cache file: /home/ubuntu/projects/wikiextractor/input/ety.wik...\n",
      "DEBUG:root:Found 1957671 wikitexts in /home/ubuntu/projects/wikiextractor/input/ety.wik...\n",
      "DEBUG:root:All wikitext accounted for...\n",
      "INFO:root:Replacing wikitext in the sentences...\n"
     ]
    }
   ],
   "source": [
    "parsed_etymologies_except_conns = multi_parse_wikitext_sentences(\n",
    "    [e['wikitext'] for e in en_etys_dl], \n",
    "    cache_file=wp.cache_path+'ety.wik' if wp.cache_path else None,\n",
    "    ignore_connection_forming=True,\n",
    ")\n",
    "en_etys_dl = [{**z[0], 'wikitext':z[1]} for z in zip(en_etys_dl, parsed_etymologies_except_conns)]"
   ]
  },
  {
   "cell_type": "code",
   "execution_count": 28,
   "metadata": {
    "ExecuteTime": {
     "end_time": "2021-01-04T18:03:28.327186Z",
     "start_time": "2021-01-04T18:02:21.889322Z"
    },
    "collapsed": true,
    "hidden": true
   },
   "outputs": [
    {
     "name": "stderr",
     "output_type": "stream",
     "text": [
      "DEBUG:root:Generating list of used wikitexts...\n",
      "DEBUG:root:Using cache file: /home/ubuntu/projects/wikiextractor/input/ety.wik...\n",
      "DEBUG:root:Found 1957671 wikitexts in /home/ubuntu/projects/wikiextractor/input/ety.wik...\n",
      "DEBUG:root:There are 477 to gather...\n",
      "DEBUG:root:There are 477 to gather...\n",
      "INFO:root:Generating groups of wikitexts for api calls over 5 steps...\n",
      "INFO:root:Performing API calls on wikitext_groupings over 1 steps...\n"
     ]
    },
    {
     "name": "stdout",
     "output_type": "stream",
     "text": [
      "\r",
      "Step 0\r",
      "Step 1\r",
      "Step 2\r",
      "Step 3\r",
      "Step 4\r",
      "Step 0/1: "
     ]
    },
    {
     "name": "stderr",
     "output_type": "stream",
     "text": [
      "DEBUG:root:Saving cache file\n"
     ]
    },
    {
     "name": "stdout",
     "output_type": "stream",
     "text": [
      "477 results\n"
     ]
    },
    {
     "name": "stderr",
     "output_type": "stream",
     "text": [
      "INFO:root:Replacing wikitext in the sentences...\n"
     ]
    }
   ],
   "source": [
    "parsed_etymologies = multi_parse_wikitext_sentences(\n",
    "    [e['wikitext'] for e in en_etys_dl], \n",
    "    cache_file=wp.cache_path+'ety.wik' if wp.cache_path else None,\n",
    "    ignore_connection_forming=False,\n",
    ")\n",
    "en_etys_dl = [{**z[0], 'etymology':z[1]} for z in zip(en_etys_dl, parsed_etymologies)]"
   ]
  },
  {
   "cell_type": "markdown",
   "metadata": {},
   "source": [
    "## start from en_etys_dl"
   ]
  },
  {
   "cell_type": "code",
   "execution_count": 5,
   "metadata": {
    "ExecuteTime": {
     "end_time": "2021-01-04T23:57:03.056117Z",
     "start_time": "2021-01-04T23:56:59.713663Z"
    }
   },
   "outputs": [],
   "source": [
    "# Checkpoint\n",
    "# pickle.dump(en_etys_dl, open('en_etys_dl', 'wb+'))\n",
    "en_etys_dl = pickle.load(open('en_etys_dl', 'rb'))"
   ]
  },
  {
   "cell_type": "code",
   "execution_count": 6,
   "metadata": {
    "ExecuteTime": {
     "end_time": "2021-01-04T23:57:11.759695Z",
     "start_time": "2021-01-04T23:57:11.745296Z"
    }
   },
   "outputs": [
    {
     "data": {
      "text/plain": [
       "(1453725,\n",
       " {'_id': 10149,\n",
       "  'word': 'dictionary',\n",
       "  'language_name': 'English',\n",
       "  'entry_id': 0,\n",
       "  'wikitext': 'Borrowed from {{bor|en|ML.|dictionarium}}, from {{der|en|la|dictionarius}}, from {{m|la|dictio||speaking}}, from {{m|la|dictus}}, perfect past participle of {{m|la|dīcō||speak}} + {{m|la|-arium||room, place}}.',\n",
       "  'etymology': 'Borrowed from Medieval Latin dictionarium, from Latin dictionarius, from dictio (“speaking”), from dictus, perfect past participle of dīcō (“speak”) + -arium (“room, place”).'})"
      ]
     },
     "execution_count": 6,
     "metadata": {},
     "output_type": "execute_result"
    }
   ],
   "source": [
    "len(en_etys_dl), en_etys_dl[0]"
   ]
  },
  {
   "cell_type": "code",
   "execution_count": 29,
   "metadata": {
    "ExecuteTime": {
     "end_time": "2021-01-05T00:27:30.533764Z",
     "start_time": "2021-01-05T00:27:30.518772Z"
    }
   },
   "outputs": [
    {
     "data": {
      "text/plain": [
       "47136"
      ]
     },
     "execution_count": 29,
     "metadata": {},
     "output_type": "execute_result"
    }
   ],
   "source": [
    "wp.wl_2_id[('dictionarium', 'Latin')]"
   ]
  },
  {
   "cell_type": "code",
   "execution_count": 25,
   "metadata": {
    "ExecuteTime": {
     "end_time": "2021-01-05T00:24:55.794646Z",
     "start_time": "2021-01-05T00:24:55.781569Z"
    }
   },
   "outputs": [
    {
     "data": {
      "text/plain": [
       "[{'word': 'dictionarium', 'language': 'Medieval Latin'}]"
      ]
     },
     "execution_count": 25,
     "metadata": {},
     "output_type": "execute_result"
    }
   ],
   "source": [
    "wp.getNodesFromTemplate('{{bor|en|ML.|dictionarium}}', 'root', allow_non_connections=True)\n",
    "# getTemplateInfo('{{bor|en|ML.|dictionarium}}')"
   ]
  },
  {
   "cell_type": "code",
   "execution_count": 13,
   "metadata": {
    "ExecuteTime": {
     "end_time": "2021-01-05T00:08:08.797995Z",
     "start_time": "2021-01-05T00:08:08.783835Z"
    }
   },
   "outputs": [
    {
     "data": {
      "text/plain": [
       "['{{bor|en|ML.|dictionarium}}',\n",
       " '{{der|en|la|dictionarius}}',\n",
       " '{{m|la|dictio||speaking}}',\n",
       " '{{m|la|dictus}}',\n",
       " '{{m|la|dīcō||speak}}',\n",
       " '{{m|la|-arium||room, place}}']"
      ]
     },
     "execution_count": 13,
     "metadata": {},
     "output_type": "execute_result"
    }
   ],
   "source": [
    "templates = mwparserfromhell.parse(en_etys_dl[0]['wikitext']).filter_templates(); templates\n",
    "[wp.getNodesFromTemplate(t, 'root') for t in templates]"
   ]
  },
  {
   "cell_type": "code",
   "execution_count": null,
   "metadata": {},
   "outputs": [],
   "source": [
    "for en_ety in en_etys_dl:\n",
    "    \n",
    "wp.load"
   ]
  },
  {
   "cell_type": "code",
   "execution_count": null,
   "metadata": {},
   "outputs": [],
   "source": [
    "# Check for multiple entries"
   ]
  },
  {
   "cell_type": "code",
   "execution_count": 32,
   "metadata": {
    "ExecuteTime": {
     "end_time": "2021-01-04T18:47:30.602573Z",
     "start_time": "2021-01-04T18:47:30.166711Z"
    }
   },
   "outputs": [
    {
     "data": {
      "text/plain": [
       "['English dictionary : Borrowed from Medieval Latin dictionarium, from Latin dictionarius, from dictio (“speaking”), from dictus, perfect past participle of dīcō (“speak”) + -arium (“room, place”).',\n",
       " 'Portuguese dicionário : Borrowed from Medieval Latin dictionarium, from Latin dictionarius, from dictiō (“speaking”) + -arium (“room, place”).']"
      ]
     },
     "execution_count": 32,
     "metadata": {},
     "output_type": "execute_result"
    }
   ],
   "source": [
    "[a['etymology'] for a in all_entry_etymologies if 'Borrowed from Medieval Latin dictionarium' in a['etymology']]"
   ]
  },
  {
   "cell_type": "code",
   "execution_count": null,
   "metadata": {},
   "outputs": [],
   "source": [
    "processed_wikidump"
   ]
  },
  {
   "cell_type": "code",
   "execution_count": 23,
   "metadata": {
    "ExecuteTime": {
     "end_time": "2021-01-04T17:45:13.405226Z",
     "start_time": "2021-01-04T17:45:02.242111Z"
    }
   },
   "outputs": [],
   "source": [
    "# 12.8s\n",
    "all_entry_etymologies = stage_cursor.d('SELECT entry_id, etymology FROM entry_etymologies')"
   ]
  },
  {
   "cell_type": "markdown",
   "metadata": {},
   "source": [
    "# Get entries info from wikitext"
   ]
  },
  {
   "cell_type": "code",
   "execution_count": null,
   "metadata": {},
   "outputs": [],
   "source": [
    "# Get all the wikitext entries (for now just a sample)\n",
    "\n",
    "# Find ones that have a gloss, or definition\n",
    "# Find the word and language for that wikitext, then the id\n",
    "# See if that id has an existing definition or entry"
   ]
  }
 ],
 "metadata": {
  "kernelspec": {
   "display_name": "wikiextractor",
   "language": "python",
   "name": "wikiextractor"
  },
  "language_info": {
   "codemirror_mode": {
    "name": "ipython",
    "version": 3
   },
   "file_extension": ".py",
   "mimetype": "text/x-python",
   "name": "python",
   "nbconvert_exporter": "python",
   "pygments_lexer": "ipython3",
   "version": "3.9.1"
  }
 },
 "nbformat": 4,
 "nbformat_minor": 4
}
