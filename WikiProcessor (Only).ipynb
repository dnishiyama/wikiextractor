{
 "cells": [
  {
   "cell_type": "markdown",
   "metadata": {},
   "source": [
    "- Master process: Etymology Database processing pipeline\n",
    "- https://www.notion.so/declannishiyama/Etymology-Database-processing-pipeline-4eaf034eae1c42e5bac4cd9fb50aad90\n",
    "- Takes the parsing output (AA, AB, AC folders) and turns it into mysql entries"
   ]
  },
  {
   "cell_type": "code",
   "execution_count": 1,
   "metadata": {
    "ExecuteTime": {
     "end_time": "2021-01-06T15:15:14.805487Z",
     "start_time": "2021-01-06T15:15:13.382250Z"
    }
   },
   "outputs": [
    {
     "name": "stdout",
     "output_type": "stream",
     "text": [
      "10/02/20 dgnutils update loaded! Added getFloat\n"
     ]
    }
   ],
   "source": [
    "%matplotlib inline\n",
    "%reload_ext autoreload\n",
    "%autoreload 2\n",
    "\n",
    "from dgnutils import *\n",
    "# sys.path.append(\"/Users/nish/development/git/etymology_explorer/modules\")\n",
    "sys.path.append(\"/home/ubuntu/projects/etymology_explorer/modules\")\n",
    "from ety_utils import * # imports wikiextractor\n",
    "u = os.environ['RDS_ETY_USER']; p = os.environ['RDS_ETY_PASSWORD']; h = os.environ['RDS_ETY_HOST']\n",
    "session=requests.session()"
   ]
  },
  {
   "cell_type": "code",
   "execution_count": null,
   "metadata": {},
   "outputs": [],
   "source": [
    "# Create test xml of 1000 items\n",
    "# lines=$(grep -m 1000 -n \"</page>\" enwiktionary-latest-pages-articles.xml | tail -1 | awk -F: '{print $1}')\n",
    "# head -${lines} enwiktionary-latest-pages-articles.xml > test.xml\n",
    "# echo \"</mediawiki>\" >> test.xml\n",
    "# wc -l test.xml\n",
    "# tail -100 test.xml\n",
    "# cd ..\n",
    "# ./WikiExtractor.py --processes 4 -o output_test --json --no_templates --lists --sections input/test.xml"
   ]
  },
  {
   "cell_type": "code",
   "execution_count": 2,
   "metadata": {
    "ExecuteTime": {
     "end_time": "2020-09-27T11:51:17.266597Z",
     "start_time": "2020-09-27T11:51:17.218402Z"
    }
   },
   "outputs": [],
   "source": [
    "wp = WikiProcessor(\n",
    "    '/home/ubuntu/projects/wikiextractor/', \n",
    "    channel='test', # Test\n",
    "#     channel='dev', \n",
    "    store_intermediates=True,\n",
    ")"
   ]
  },
  {
   "cell_type": "code",
   "execution_count": null,
   "metadata": {
    "ExecuteTime": {
     "start_time": "2020-09-27T11:51:22.572Z"
    }
   },
   "outputs": [
    {
     "name": "stderr",
     "output_type": "stream",
     "text": [
      "INFO:root:Recreating all tables EXCEPT ['etymologies', 'languages']\n",
      "DEBUG:root:Recreating table ancestors\n",
      "DEBUG:root:Recreating table common_words\n",
      "DEBUG:root:Recreating table connection_sources\n",
      "DEBUG:root:Recreating table connections\n",
      "DEBUG:root:Recreating table entry_connections\n",
      "DEBUG:root:Recreating table entry_definitions\n",
      "DEBUG:root:Recreating table entry_etymologies\n",
      "DEBUG:root:Recreating table entry_pos\n",
      "DEBUG:root:Recreating table entry_pronunciations\n",
      "DEBUG:root:Recreating table kin\n",
      "DEBUG:root:Recreating table merged_etymologies\n",
      "DEBUG:root:Recreating table permanent_errors\n",
      "DEBUG:root:Recreating table progeny\n",
      "DEBUG:root:Recreating table random_etymologies\n",
      "DEBUG:root:Recreating table transliterations\n",
      "DEBUG:root:Recreating table wiktionary_page_dne\n",
      "INFO:root:Creating wl_2_id dictionary...\n",
      "INFO:root:Processing wikiextractor directory /home/ubuntu/git/wikiextractor/output/\n",
      "DEBUG:root:Processing wikiextractor directory: AA\n",
      "DEBUG:root:Processing wikiextractor directory: AB\n",
      "DEBUG:root:Processing wikiextractor directory: AC\n",
      "DEBUG:root:Processing wikiextractor directory: AD\n",
      "DEBUG:root:Processing wikiextractor directory: AE\n",
      "DEBUG:root:Processing wikiextractor directory: AF\n",
      "DEBUG:root:Processing wikiextractor directory: AG\n",
      "DEBUG:root:Processing wikiextractor directory: AH\n",
      "DEBUG:root:Processing wikiextractor directory: AI\n",
      "DEBUG:root:Processing wikiextractor directory: AJ\n",
      "DEBUG:root:Processing wikiextractor directory: AK\n",
      "DEBUG:root:Processing wikiextractor directory: AL\n",
      "DEBUG:root:Processing wikiextractor directory: AM\n",
      "DEBUG:root:Processing wikiextractor directory: AN\n",
      "DEBUG:root:Processing wikiextractor directory: AO\n",
      "INFO:root:Finished on AO, 47. Found 6380374 words\n",
      "INFO:root:Creating mysql data to insert\n",
      "INFO:root:Found 7072848 new connections to insert\n",
      "INFO:root:Found 1453725 new etymologies to insert\n",
      "INFO:root:Found 6699058 new pos to insert\n",
      "INFO:root:Found 1424616 new pronunciations to insert\n",
      "INFO:root:Found 9060557 new definitions to insert\n",
      "INFO:root:Converting wikitext into text...\n",
      "DEBUG:root:Generating list of used wikitexts...\n",
      "DEBUG:root:Using cache file: /home/ubuntu/git/wikiextractor/input/pron.wik...\n"
     ]
    }
   ],
   "source": [
    "# Takes 1hr 45 min on r4.2xlarge with wikitext cache\n",
    "log_level('d')\n",
    "wp.process_wikidump(commit=True)"
   ]
  },
  {
   "cell_type": "code",
   "execution_count": null,
   "metadata": {
    "ExecuteTime": {
     "start_time": "2020-09-27T11:51:57.868Z"
    }
   },
   "outputs": [],
   "source": [
    "notify('done!')"
   ]
  },
  {
   "cell_type": "code",
   "execution_count": null,
   "metadata": {},
   "outputs": [],
   "source": []
  }
 ],
 "metadata": {
  "kernelspec": {
   "display_name": "wikiextractor",
   "language": "python",
   "name": "wikiextractor"
  },
  "language_info": {
   "codemirror_mode": {
    "name": "ipython",
    "version": 3
   },
   "file_extension": ".py",
   "mimetype": "text/x-python",
   "name": "python",
   "nbconvert_exporter": "python",
   "pygments_lexer": "ipython3",
   "version": "3.9.1"
  }
 },
 "nbformat": 4,
 "nbformat_minor": 4
}
